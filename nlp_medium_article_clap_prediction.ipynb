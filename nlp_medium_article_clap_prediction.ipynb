{
  "nbformat": 4,
  "nbformat_minor": 0,
  "metadata": {
    "colab": {
      "provenance": [],
      "collapsed_sections": [
        "m47ybzc0xoTG",
        "GsoyrRHf6ai-",
        "f4CcPiWjTcdg",
        "hBs2wYZdw8G2",
        "QaMjEgnJEUGo",
        "jRl9730nxfmY",
        "MGSJ3nADxVoM",
        "_TN1YXpZHejg",
        "cQNz25_JHk2D",
        "JOC16l4PmcFm",
        "85xBavkjXNmV"
      ],
      "toc_visible": true,
      "authorship_tag": "ABX9TyNPTdCVjZAbxp/1fOy62BSD",
      "include_colab_link": true
    },
    "kernelspec": {
      "name": "python3",
      "display_name": "Python 3"
    }
  },
  "cells": [
    {
      "cell_type": "markdown",
      "metadata": {
        "id": "view-in-github",
        "colab_type": "text"
      },
      "source": [
        "<a href=\"https://colab.research.google.com/github/lukekolbe/nlp_predicting-claps-on-medium-articles/blob/main/nlp_medium_article_clap_prediction.ipynb\" target=\"_parent\"><img src=\"https://colab.research.google.com/assets/colab-badge.svg\" alt=\"Open In Colab\"/></a>"
      ]
    },
    {
      "cell_type": "markdown",
      "metadata": {
        "id": "OZpTa-Hctdvi"
      },
      "source": [
        "# Advanced Data Analysis for Management Support\n",
        "## Term project Notebook\n",
        "\n",
        "In this notebook we will analyze a large dataset of Blog posts scraped from the Medium platform. The goal is to use text and meta data to predict the amount of 'claps' an article might receive. 'Claps' is a metric similar to 'likes', which lets the reader express a positive reaction to the content.\n",
        "\n",
        "For this purpose, several machine learning models are built and compared. Before any analysis can be done, thorough cleaning of text and meta data is necessary, followed by a quick exploratory analysis.\n",
        "\n",
        "The task is a typical regression problem, with 'claps' ranging between 0 and (theoretically) infinity.\n",
        "\n",
        "The models applied can be classified as conventional regression models based on numeric and categorical features, and language models that focus on the texts and headlines themselves, trying to identify context and patterns in the text that might explain which posts are more likely to receive more claps.\n",
        "\n",
        "In a sense, the 'claps' variable can be seen as a proxy of quality, but also 'virality' of the content.\n",
        "\n",
        "-----\n",
        "-----\n",
        "\n",
        "The structure of this analysis is as follows:\n",
        "\n",
        "1.   Setup and basic data cleaning\n",
        "2.   Exploratory data analysis\n",
        "3.   Data Management\n",
        "  *  Outlier treatment\n",
        "  *  Feature engineering\n",
        "  *  Text cleaning\n",
        "  *  K-fold Target Encoding\n",
        "4. Regression based on numeric features\n",
        "5. Regression based on language models\n",
        "  *  Tokenizing\n",
        "  *  GloVe Embedding\n",
        "  *  Simple CNN\n",
        "  *  Complex CNN\n",
        "6. Results and Discussion\n",
        "\n",
        "\n"
      ]
    },
    {
      "cell_type": "markdown",
      "metadata": {
        "id": "gcpzNTBJWNXF"
      },
      "source": [
        "## Initial Setup"
      ]
    },
    {
      "cell_type": "markdown",
      "metadata": {
        "id": "72eHzbHYx6hJ"
      },
      "source": [
        "### Configuration and Data Loading"
      ]
    },
    {
      "cell_type": "code",
      "metadata": {
        "id": "jmf5OtgwaYVs"
      },
      "source": [
        "import numpy as np \n",
        "import pandas as pd \n",
        "import os\n",
        "import matplotlib.pyplot as plt\n",
        "import re\n",
        "from sklearn.model_selection import train_test_split\n",
        "from datetime import datetime\n",
        "from string import ascii_letters, punctuation\n",
        "import pickle\n",
        "\n",
        "# !pip install tensorflow-gpu==2.0.0\n",
        "import tensorflow as tf\n",
        "os.environ['KERAS_BACKEND'] = 'tensorflow'\n",
        "\n",
        "\n",
        "!pip install nltk\n",
        "import nltk\n",
        "nltk.download('stopwords')\n",
        "nltk.download('punkt')\n",
        "nltk.download('wordnet')\n",
        "from nltk.stem import WordNetLemmatizer\n",
        "\n",
        "!pip install beautifulsoup4\n",
        "from bs4 import BeautifulSoup\n",
        "\n",
        "!pip install unidecode\n",
        "import unidecode\n",
        "\n",
        "\n",
        "### Target encoding\n",
        "!pip install category_encoders\n",
        "import sklearn as sk\n",
        "from sklearn.linear_model import LinearRegression\n",
        "from sklearn import metrics\n",
        "\n",
        "import category_encoders as ce\n",
        "\n",
        "#visualisation\n",
        "import seaborn as sns\n",
        "import matplotlib.gridspec as gridspec\n",
        "\n",
        "color = sns.color_palette()\n",
        "sns.set_style(\"whitegrid\")\n",
        "sns.set_context(\"paper\")\n",
        "sns.palplot(color)\n"
      ],
      "execution_count": null,
      "outputs": []
    },
    {
      "cell_type": "code",
      "metadata": {
        "id": "VysA0MaAab-c"
      },
      "source": [
        "# Some configuration of the plots we will create later.\n",
        "%matplotlib inline  \n",
        "plt.rcParams[\"figure.figsize\"] = (20,10)"
      ],
      "execution_count": null,
      "outputs": []
    },
    {
      "cell_type": "code",
      "metadata": {
        "id": "9yDPH0fw0xJQ",
        "colab": {
          "base_uri": "https://localhost:8080/",
          "height": 118
        },
        "outputId": "de3b80a8-aad9-4a05-a59c-bae85f22caf9"
      },
      "source": [
        "from google.colab import drive\n",
        "drive.mount('/content/drive')"
      ],
      "execution_count": null,
      "outputs": [
        {
          "output_type": "stream",
          "text": [
            "Go to this URL in a browser: https://accounts.google.com/o/oauth2/auth?client_id=947318989803-6bn6qk8qdgf4n4g3pfee6491hc0brc4i.apps.googleusercontent.com&redirect_uri=urn%3aietf%3awg%3aoauth%3a2.0%3aoob&scope=email%20https%3a%2f%2fwww.googleapis.com%2fauth%2fdocs.test%20https%3a%2f%2fwww.googleapis.com%2fauth%2fdrive%20https%3a%2f%2fwww.googleapis.com%2fauth%2fdrive.photos.readonly%20https%3a%2f%2fwww.googleapis.com%2fauth%2fpeopleapi.readonly&response_type=code\n",
            "\n",
            "Enter your authorization code:\n",
            "··········\n",
            "Mounted at /content/drive\n"
          ],
          "name": "stdout"
        }
      ]
    },
    {
      "cell_type": "code",
      "metadata": {
        "id": "38mtzmwRP3n7",
        "colab": {
          "base_uri": "https://localhost:8080/",
          "height": 33
        },
        "outputId": "ce9ee693-75de-4f1b-9489-b7b551fcc262"
      },
      "source": [
        "cd '/content/drive/My Drive/ADAMS/'"
      ],
      "execution_count": null,
      "outputs": [
        {
          "output_type": "stream",
          "text": [
            "/content/drive/My Drive/ADAMS\n"
          ],
          "name": "stdout"
        }
      ]
    },
    {
      "cell_type": "code",
      "metadata": {
        "id": "n8tcLJptQBhZ"
      },
      "source": [
        "# Fresh, uncleaned data\n",
        "test_file = 'Test.csv'\n",
        "test = pd.read_csv(test_file)\n",
        "\n",
        "train_file = 'Train.csv'\n",
        "train = pd.read_csv(train_file)"
      ],
      "execution_count": null,
      "outputs": []
    },
    {
      "cell_type": "code",
      "metadata": {
        "id": "6_vao-Wrnev2"
      },
      "source": [
        "## load cleaned data\n",
        "test_file = 'test_cleaned.csv'\n",
        "ts_a = pd.read_csv(test_file)\n",
        "\n",
        "train_file = 'train_cleaned.csv'\n",
        "tr_a = pd.read_csv(train_file)"
      ],
      "execution_count": null,
      "outputs": []
    },
    {
      "cell_type": "markdown",
      "metadata": {
        "id": "m47ybzc0xoTG"
      },
      "source": [
        "### Data Overview"
      ]
    },
    {
      "cell_type": "code",
      "metadata": {
        "id": "pCngtTpMYwYM",
        "colab": {
          "base_uri": "https://localhost:8080/",
          "height": 115
        },
        "outputId": "c97911bc-0069-4fdc-8a0a-29484fcd206e"
      },
      "source": [
        "print('Dimensionality of the data is {}'.format(test.shape))  # .shape returns a tupel\n",
        "print('The data set has {} cases.'.format(test.shape[0]))     # we can also index the elements of that tupel\n",
        "print('The total number of elements is {}.'.format(test.size))\n",
        "\n",
        "print('Dimensionality of the data is {}'.format(train.shape))  # .shape returns a tupel\n",
        "print('The data set has {} cases.'.format(train.shape[0]))     # we can also index the elements of that tupel\n",
        "print('The total number of elements is {}.'.format(train.size))"
      ],
      "execution_count": null,
      "outputs": [
        {
          "output_type": "stream",
          "text": [
            "Dimensionality of the data is (514, 8)\n",
            "The data set has 514 cases.\n",
            "The total number of elements is 4112.\n",
            "Dimensionality of the data is (279577, 50)\n",
            "The data set has 279577 cases.\n",
            "The total number of elements is 13978850.\n"
          ],
          "name": "stdout"
        }
      ]
    },
    {
      "cell_type": "markdown",
      "metadata": {
        "id": "GsoyrRHf6ai-"
      },
      "source": [
        "### Removing unwanted features and duplicates\n",
        "\n",
        "The training data has many features that hold no information value, are redundant, or simply not present in the test data. Some test features can be infered by feature engineering, but many cannot. These are deleted from the training data. This includes the wordCount and imageCount features, as it is unclear how exactly the numbers were generated. Instead, a text-based word and image counter will be implemented later on, ensuring that counts in both train and test data are genereted via the same process."
      ]
    },
    {
      "cell_type": "code",
      "metadata": {
        "id": "m_ChS0EL0Icf",
        "colab": {
          "base_uri": "https://localhost:8080/"
        },
        "outputId": "cae09c49-48db-46d4-e922-a52ecaf90710"
      },
      "source": [
        "# drop duplicate posts\n",
        "train = train.drop_duplicates(subset=('postId'),keep='first')\n",
        "\n",
        "### removing non-english texts from training Data\n",
        "train = train[(train['language'] == \"en\")]\n",
        "\n",
        "# drop unwanted features\n",
        "train = train.drop([\"firstPublishedDate\",\"language\",\"linksCount\", \"wordCount\", \"postId\",\"socialRecommendsCount\", \"recommends\",\"subTitle\", 'isSubscriptionLocked','audioVersionDurationSec','codeBlock','codeBlockCount','collectionId','createdDatetime','postCount','firstPublishedDatetime','latestPublishedDatetime','latestPublishedDate','readingTime','tagsCount','uniqueSlug','updatedDate','updatedDatetime','vote','publicationdescription','publicationdomain','publicationfacebookPageName','publicationfollowerCount','publicationname','publicationpublicEmail','publicationslug','publicationtags','publicationtwitterUsername','tag_name','slug','name','bio','userId','userName','scrappedDate', \"url\"],axis=1)\n",
        "train.columns\n",
        "#test.columns"
      ],
      "execution_count": null,
      "outputs": [
        {
          "output_type": "execute_result",
          "data": {
            "text/plain": [
              "Index(['createdDate', 'imageCount', 'responsesCreatedCount', 'text', 'title',\n",
              "       'totalClapCount', 'author', 'usersFollowedByCount',\n",
              "       'usersFollowedCount'],\n",
              "      dtype='object')"
            ]
          },
          "metadata": {
            "tags": []
          },
          "execution_count": 295
        }
      ]
    },
    {
      "cell_type": "code",
      "metadata": {
        "id": "SIzKY1--0boR"
      },
      "source": [
        "# working copies of data\n",
        "tr_a = train.copy()\n",
        "ts_a = test.copy()"
      ],
      "execution_count": null,
      "outputs": []
    },
    {
      "cell_type": "markdown",
      "metadata": {
        "id": "Vt2LZf_0IIC9"
      },
      "source": [
        "## Exploratory Data Analysis\n",
        "\n",
        "See Ex3\n",
        "\n",
        "When plotting the correlation matrix, we see that the target variable 'totalClapCount' is most highly correlated to the 'responses' variable in the data. Other features are not or only loosely correlated with the target. This reduces hope that a model based on numeric or categorical features will yield precise predictions.\n",
        "\n",
        "From the correlation plot, several strategic decisions are derived:\n",
        "\n",
        "*   A classic OLS regression on 'responses' will serve as baseline model \n",
        "*   In addition, a more complex model including other numeric features is implemented\n",
        "*   Lastly, a text based Neural Net regressor will facilitate textual information\n",
        "*   Predictions from all models will serve as features in a final stacked model\n",
        "\n"
      ]
    },
    {
      "cell_type": "code",
      "metadata": {
        "id": "G6bgcIEhFxzN",
        "colab": {
          "base_uri": "https://localhost:8080/",
          "height": 553
        },
        "outputId": "8e91906d-cf7f-410d-e894-1cd51767f95b"
      },
      "source": [
        "# Compute the correlation matrix\n",
        "corr = tr_a.corr()\n",
        "\n",
        "# Generate a mask for the upper triangle\n",
        "mask = np.zeros_like(corr, dtype=np.bool)\n",
        "mask[np.triu_indices_from(mask)] = True\n",
        "\n",
        "# Set up the matplotlib figure\n",
        "f, ax = plt.subplots(figsize=(11, 9))\n",
        "\n",
        "# Generate a custom diverging colormap\n",
        "cmap = sns.diverging_palette(220, 20, as_cmap=True)\n",
        "\n",
        "# Draw the heatmap with the mask and correct aspect ratio\n",
        "sns.heatmap(corr, annot=True,mask=mask, cmap=cmap, vmax=1, center=0,\n",
        "            square=True, linewidths=1.5, cbar_kws={\"shrink\": .5})"
      ],
      "execution_count": null,
      "outputs": [
        {
          "output_type": "execute_result",
          "data": {
            "text/plain": [
              "<matplotlib.axes._subplots.AxesSubplot at 0x7f46830676d8>"
            ]
          },
          "metadata": {
            "tags": []
          },
          "execution_count": 11
        },
        {
          "output_type": "display_data",
          "data": {
            "image/png": "[encoded data removed]",
            "text/plain": [
              "<Figure size 792x648 with 2 Axes>"
            ]
          },
          "metadata": {
            "tags": [],
            "needs_background": "light"
          }
        }
      ]
    },
    {
      "cell_type": "markdown",
      "metadata": {
        "id": "JuW5bCVkBUSj"
      },
      "source": [
        "#### Clap Distribution\n",
        "Looking at the log-scaled density, we see that the distribution is highly skewed towards the right, with most observations having very few claps, and some extreme outliers. As this is problematic for most learning algorithms, correction is advisable.\n",
        "\n",
        "Two possible strategies: \n",
        "\n",
        "*   Removing Outliers\n",
        "*   Log-scaling target variable 'totalClapCount' (Log-Linear)\n",
        "*   Standardization\n",
        "\n",
        "Outlier removal might seem as the standard solution, the idea of predicting these outliers (the 'viral' posts) is intriguing. Removing all outliers based on interquartile range would lose a lot of information, as we assume that these outliers do not exist randomly, but for a reason. \n",
        "\n",
        "An alternative way to mitigate the problem in training is Log-scaling, which would yield approx. normally distributed data. It would have to be reversed after predicting on the test set, as the variable is originally unscaled and thus unscaled predictions are expected.\n",
        "The problem is that there are many 0-values in the y variable. Log scaling cannot deal with these, so we'd have to add very small integer values to any 0 value. This is not ideal.\n",
        "\n",
        "Lastly, a standardization of the data is commonly used, where the mean is subtracted from each value before dividing by the standard deviation. This yields a new variable with an expected value of 0 and a variance of one. This approach was not used, as it involved additional steps in data preparation and prediction, as one needs to make sure that any prediction is transformed back to its normal range before any interpretation is possible."
      ]
    },
    {
      "cell_type": "code",
      "metadata": {
        "id": "scBZZe_k9OhD",
        "colab": {
          "base_uri": "https://localhost:8080/",
          "height": 270
        },
        "outputId": "4a1db121-9d68-40ec-9b32-5fd4b473f529"
      },
      "source": [
        "plt.figure(figsize=(12,6))\n",
        "plt.suptitle(\"Clap Distribution (Log-scaled)\",fontsize=20)\n",
        "gridspec.GridSpec(2,1)\n",
        "\n",
        "tr_a.totalClapCount.describe()\n",
        "\n",
        "plt.subplot2grid((2,1),(0,0))\n",
        "sns.distplot(tr_a.totalClapCount, hist=False, color=color[0], kde_kws={\"shade\": True, \"lw\": 2}, bins=100)\n",
        "plt.title(\"Density and Histogram\")\n",
        "\n",
        "#sns.boxplot(x=tr_a.totalClapCount)\n"
      ],
      "execution_count": null,
      "outputs": [
        {
          "output_type": "execute_result",
          "data": {
            "text/plain": [
              "Text(0.5, 1.0, 'Density and Histogram')"
            ]
          },
          "metadata": {
            "tags": []
          },
          "execution_count": 297
        },
        {
          "output_type": "display_data",
          "data": {
            "image/png": "[encoded data removed]",
            "text/plain": [
              "<Figure size 864x432 with 1 Axes>"
            ]
          },
          "metadata": {
            "tags": [],
            "needs_background": "light"
          }
        }
      ]
    },
    {
      "cell_type": "code",
      "metadata": {
        "id": "eSNZOK1oJVB5",
        "colab": {
          "base_uri": "https://localhost:8080/",
          "height": 270
        },
        "outputId": "e74d8ff9-a99b-4b26-c1a9-c66d8879170b"
      },
      "source": [
        "plt.figure(figsize=(12,6))\n",
        "plt.suptitle(\"Clap Box Plot (unscaled)\",fontsize=20)\n",
        "gridspec.GridSpec(2,1)\n",
        "plt.subplot2grid((2,1),(0,0))\n",
        "\n",
        "sns.boxplot(x=tr_a.totalClapCount)\n"
      ],
      "execution_count": null,
      "outputs": [
        {
          "output_type": "execute_result",
          "data": {
            "text/plain": [
              "<matplotlib.axes._subplots.AxesSubplot at 0x7f4630532518>"
            ]
          },
          "metadata": {
            "tags": []
          },
          "execution_count": 298
        },
        {
          "output_type": "display_data",
          "data": {
            "image/png": "[encoded data removed]",
            "text/plain": [
              "<Figure size 864x432 with 1 Axes>"
            ]
          },
          "metadata": {
            "tags": [],
            "needs_background": "light"
          }
        }
      ]
    },
    {
      "cell_type": "markdown",
      "metadata": {
        "id": "EOz1O-uCWVof"
      },
      "source": [
        "## Data Management"
      ]
    },
    {
      "cell_type": "markdown",
      "metadata": {
        "id": "f4CcPiWjTcdg"
      },
      "source": [
        "### Outlier Treatment\n",
        "\n",
        "As a compromise between wanting to find the high-attention posts and training reliable models, a modest outlier treatment is applied, where all lines where dependent variable exceeds the 3rd quartile by 8 IQR (equivalent to ~95th percentile) are removed. This is no standard procedure, as most sources recommend outlier removal beyond +- 3 IQR at most. In this sense, it is a compromise between taming the extremes in the data, while maintaining some of its original nature.\n",
        "\n",
        "This procedure reduces the training data by about 3.000 rows, to 63.000.\n",
        "\n",
        "\n",
        "Further treatments might include log-transformation (good for skewed data) or z-transformation, but these are cumbersome in use, or not suited for linear regression approaches."
      ]
    },
    {
      "cell_type": "code",
      "metadata": {
        "id": "eCdJ48aPLft2",
        "colab": {
          "base_uri": "https://localhost:8080/",
          "height": 82
        },
        "outputId": "4c2dbb7f-f792-4c94-d58c-2414f5e6872a"
      },
      "source": [
        "# Variables to be treated\n",
        "#num_cols = [x for x in tr_a.columns if tr_a[x].dtype in ['float64', 'float32', 'float16', 'int64']]\n",
        "# Calc 1st and 3rd quartile\n",
        "tr_a.totalClapCount.quantile([0.25, 0.75, 0.95])"
      ],
      "execution_count": null,
      "outputs": [
        {
          "output_type": "execute_result",
          "data": {
            "text/plain": [
              "0.25      0.0\n",
              "0.75     65.0\n",
              "0.95    540.0\n",
              "Name: totalClapCount, dtype: float64"
            ]
          },
          "metadata": {
            "tags": []
          },
          "execution_count": 299
        }
      ]
    },
    {
      "cell_type": "code",
      "metadata": {
        "id": "egCI9Rfawlqg"
      },
      "source": [
        "Q1 = tr_a.totalClapCount.quantile(0.25)\n",
        "Q3 = tr_a.totalClapCount.quantile(0.75)\n",
        "IQR = Q3 - Q1\n",
        "\n",
        "tr_a['y_outlier'] = tr_a.totalClapCount > (Q3 + 8 * IQR)\n",
        "\n",
        "tt = tr_a.copy()\n",
        "tr_a = tr_a.loc[tr_a['y_outlier']==False, :].copy()\n"
      ],
      "execution_count": null,
      "outputs": []
    },
    {
      "cell_type": "code",
      "metadata": {
        "id": "8FPx0jALQSDA",
        "colab": {
          "base_uri": "https://localhost:8080/",
          "height": 33
        },
        "outputId": "f0939b3c-a468-47cf-c699-5c9bea723a2c"
      },
      "source": [
        "\n",
        "#outlier_cutoff = np.percentile(tr_a['totalClapCount'], 95) # define outlier criterion\n",
        "\n",
        "#claps = np.clip(tr_a['totalClapCount'], 0, outlier_cutoff) #claps vector without outliers (set to 0)\n",
        "claps = tr_a['totalClapCount'].copy() #claps vector without outliers (set to 0)\n",
        "\n",
        "median_score = np.mean(claps) #median without outliers #claps instead of c_vec\n",
        "std_score = claps.std() #std deviation\n",
        "\n",
        "tr_a['clap_zscore'] = ((claps - median_score)/std_score)\n",
        "\n",
        "sns.distplot(tr_a.clap_zscore, hist=False, color=color[0], kde_kws={\"shade\": True, \"lw\": 2}, bins=100)\n",
        "plt.savefig('z_score-distr.png')"
      ],
      "execution_count": null,
      "outputs": [
        {
          "output_type": "execute_result",
          "data": {
            "text/plain": [
              "-0.4731672575628428"
            ]
          },
          "metadata": {
            "tags": []
          },
          "execution_count": 304
        }
      ]
    },
    {
      "cell_type": "markdown",
      "metadata": {
        "id": "lM-akURtwyZ6"
      },
      "source": [
        "### Feature Engineering\n",
        "\n",
        "This section focuses on data cleaning and feature extraction. The former is a integral part of any data analysis project, the latter is important for this particular dataset, as there are substantial differences between the test and train data.\n",
        "\n",
        "The processing aims to increase data quality and synchronize the data, leaving test and train sets with identical numeric and categorical features.\n",
        "\n",
        "In the process, several functions are created which are then applied to the data."
      ]
    },
    {
      "cell_type": "markdown",
      "metadata": {
        "id": "hBs2wYZdw8G2"
      },
      "source": [
        "#### Feature Coding"
      ]
    },
    {
      "cell_type": "code",
      "metadata": {
        "id": "RdbHkI8l4ROA"
      },
      "source": [
        "# Code categories properly \n",
        "\n",
        "ts_a['Author'] = ts_a['Author'].astype('string')\n",
        "tr_a['author'] = tr_a['author'].astype('string')\n",
        "\n",
        "ts_a['Author'] = ts_a['Author'].str.lower()\n",
        "tr_a['author'] = tr_a['author'].str.lower()"
      ],
      "execution_count": null,
      "outputs": []
    },
    {
      "cell_type": "markdown",
      "metadata": {
        "id": "QaMjEgnJEUGo"
      },
      "source": [
        "#### Feature Engineering: Text Based Features\n",
        "\n",
        "The text itself could be a possible hint toward content success. Too long or too short articles might hinder the chances of receiving a lot of attention, as might the number of images and links. While their effect is to be tested, creating these features is not costly.\n",
        "\n",
        "Lastly, the column 'Responses' in the test data contains valuable information regarding user comments below each article. It seems likely that this is a direct connection to post success, as many responses would indicate a lot of engagement. From the correlation plot above we can see a highly positive relationship between responses and claps. It is worthwhile to extract this feature in a numeric form."
      ]
    },
    {
      "cell_type": "code",
      "metadata": {
        "id": "ZgG4TbRy_4CT"
      },
      "source": [
        "def html_counter(test, train):\n",
        "  test['imageCount']= test['Text'].str.count('<img')\n",
        "  test['linksCount']= test['Text'].str.count('http')-test['imageCount']\n",
        "\n",
        "  train['imageCount']= train['text'].str.count('<img')\n",
        "  train['linksCount']= train['text'].str.count('http')-train['imageCount']\n",
        "\n",
        "  return test, train"
      ],
      "execution_count": null,
      "outputs": []
    },
    {
      "cell_type": "code",
      "metadata": {
        "id": "DA7tLqugMElG"
      },
      "source": [
        "ts_a, tr_a = html_counter(ts_a, tr_a)"
      ],
      "execution_count": null,
      "outputs": []
    },
    {
      "cell_type": "code",
      "metadata": {
        "id": "Clcclt4XofL1"
      },
      "source": [
        "# text and title length after processing\n",
        "def text_lengths(test, train):\n",
        "  test['titleLength'] = test['Header'].str.split().str.len().fillna(0) # No. of Words in the Title\n",
        "  train['titleLength'] = train['title'].str.split().str.len().fillna(0) # No. of Words in the Title\n",
        "  test['Length'] = test['Text'].str.split().str.len().fillna(0) # No. of Words in the Title\n",
        "  train['textLength'] = train['text'].str.split().str.len().fillna(0) # No. of Words in the Title\n",
        "  \n",
        "  return test, train\n",
        "\n"
      ],
      "execution_count": null,
      "outputs": []
    },
    {
      "cell_type": "code",
      "metadata": {
        "id": "wMjTPOU-MKwX"
      },
      "source": [
        "ts_a, tr_a = text_lengths(ts_a, tr_a)"
      ],
      "execution_count": null,
      "outputs": []
    },
    {
      "cell_type": "code",
      "metadata": {
        "id": "wI0534eaNKAD"
      },
      "source": [
        "def response_decoder(test):\n",
        "    for col in [\"PublicationDetails\", \"Responses\"]:\n",
        "        test[col] = test[col].astype('string')\n",
        "    \n",
        "    test['Responses'] = test['Responses'].str.extract('(\\d+)', expand=False)\n",
        "    test['Responses']= pd.to_numeric(test['Responses'], errors='coerce')\n",
        "    test['Responses'] = test['Responses'].fillna(0)\n",
        "\n",
        "    return test"
      ],
      "execution_count": null,
      "outputs": []
    },
    {
      "cell_type": "code",
      "metadata": {
        "id": "u_otKw32QW2w",
        "colab": {
          "base_uri": "https://localhost:8080/",
          "height": 732
        },
        "outputId": "ff6acf84-87aa-4914-b11a-eed6ffdc675f"
      },
      "source": [
        "ts_a = response_decoder(ts_a)\n",
        "\n",
        "print(\"test info:\", \"\\n\", ts_a.info(), \"\\n\", \"\\n\", tr_a.info())"
      ],
      "execution_count": null,
      "outputs": [
        {
          "output_type": "stream",
          "text": [
            "<class 'pandas.core.frame.DataFrame'>\n",
            "RangeIndex: 514 entries, 0 to 513\n",
            "Data columns (total 12 columns):\n",
            " #   Column              Non-Null Count  Dtype  \n",
            "---  ------              --------------  -----  \n",
            " 0   Unnamed: 0          514 non-null    int64  \n",
            " 1   index               514 non-null    int64  \n",
            " 2   Author              514 non-null    string \n",
            " 3   PublicationDetails  514 non-null    string \n",
            " 4   Responses           514 non-null    float64\n",
            " 5   Header              506 non-null    object \n",
            " 6   Text                514 non-null    object \n",
            " 7   Length              514 non-null    int64  \n",
            " 8   clap_zscore         114 non-null    float64\n",
            " 9   imageCount          514 non-null    int64  \n",
            " 10  linksCount          514 non-null    int64  \n",
            " 11  titleLength         514 non-null    float64\n",
            "dtypes: float64(3), int64(5), object(2), string(2)\n",
            "memory usage: 48.3+ KB\n",
            "<class 'pandas.core.frame.DataFrame'>\n",
            "Int64Index: 63320 entries, 0 to 279572\n",
            "Data columns (total 14 columns):\n",
            " #   Column                 Non-Null Count  Dtype  \n",
            "---  ------                 --------------  -----  \n",
            " 0   createdDate            63320 non-null  object \n",
            " 1   imageCount             63320 non-null  int64  \n",
            " 2   responsesCreatedCount  63320 non-null  int64  \n",
            " 3   text                   63320 non-null  object \n",
            " 4   title                  63319 non-null  object \n",
            " 5   totalClapCount         63320 non-null  int64  \n",
            " 6   author                 63320 non-null  string \n",
            " 7   usersFollowedByCount   63320 non-null  float64\n",
            " 8   usersFollowedCount     63320 non-null  float64\n",
            " 9   y_outlier              63320 non-null  bool   \n",
            " 10  clap_zscore            63320 non-null  float64\n",
            " 11  linksCount             63320 non-null  int64  \n",
            " 12  titleLength            63320 non-null  float64\n",
            " 13  textLength             63320 non-null  int64  \n",
            "dtypes: bool(1), float64(4), int64(5), object(3), string(1)\n",
            "memory usage: 6.8+ MB\n",
            "test info: \n",
            " None \n",
            " \n",
            " None\n"
          ],
          "name": "stdout"
        }
      ]
    },
    {
      "cell_type": "markdown",
      "metadata": {
        "id": "jRl9730nxfmY"
      },
      "source": [
        "#### Feature Engineering: Publication Details\n",
        "\n",
        "One particular column of the test data, 'PublicationDetails', contains several pieces of information that are of interest, but cannot be used in its original text encoding. These are author, publication, and publishing date. Not lines contain all this information, but most do, and for those that don't some gaps can be filled by looking at other columns (some lines in the 'author' column contain publishing dates).\n",
        "\n",
        "The processing results in an updated column 'author', and three date columns (year, month, day of week). Publication names were omitted, as there was little overlap between test and training data in this column."
      ]
    },
    {
      "cell_type": "code",
      "metadata": {
        "id": "NJUYfrvfCT2x"
      },
      "source": [
        "def details_entangler(test):\n",
        "    # Find dates as per their standard format, seperate dates with with \"¿\"\n",
        "    def date_finder(str): \n",
        "        s1 = re.sub('(.)(Jan |Jan-|Feb |Feb-|Mar |Mar-|Apr |Apr-|May |May-|Jun |Jun-|Jul |Jul-|Aug |Aug-|Sep |Sep-|Oct |Oct-|Nov |Nov-|Dec |Dec-)', r'\\1¿\\2', str) \n",
        "        return s1\n",
        "\n",
        "\n",
        "    for i in range(test.shape[0]):\n",
        "        test[\"PublicationDetails\"].iloc[i] = date_finder(test[\"PublicationDetails\"].iloc[i])\n",
        "\n",
        "    temp = test[\"PublicationDetails\"].str.split(\"¿\", n = 1, expand = True) # new data frame with split value columns \n",
        "    test[\"AuthorInDomain\"]= temp[0] # making separate first name column from new data frame \n",
        "    test[\"createdDate\"]= temp[1] # making separate last name column from new data frame \n",
        "    del temp\n",
        "\n",
        "    # separate author names by special character\n",
        "    def author_finder(str): \n",
        "        s1 = re.sub(\" in \", \"¿\", str, 1)\n",
        "        return s1\n",
        "\n",
        "    for i in range(test.shape[0]):\n",
        "        test[\"AuthorInDomain\"].iloc[i] = author_finder(test[\"AuthorInDomain\"].iloc[i])\n",
        "\n",
        "    test.loc[test[\"AuthorInDomain\"].str.count(\"¿\") < 1 ,\"AuthorInDomain\"] = test.loc[test[\"AuthorInDomain\"].str.count(\"¿\") < 1 ,\"AuthorInDomain\"] + \"¿NONE\"\n",
        "    test[\"AuthorInDomain\"] = test[\"AuthorInDomain\"].str.replace('([A-Z][a-z]{2}\\s\\d+(,\\s20\\d\\d)?)', 'NONE')\n",
        "    temp = test[\"AuthorInDomain\"].str.split(\"¿\", n = 1, expand = True) \n",
        "    \n",
        "    test[\"author\"] = temp[0].str.lower()\n",
        "\n",
        "    return test"
      ],
      "execution_count": null,
      "outputs": []
    },
    {
      "cell_type": "code",
      "metadata": {
        "id": "-gpuDx0UOPL5"
      },
      "source": [
        "ts_a = details_entangler(ts_a)\n",
        "\n",
        "#print(\"test info:\", \"\\n\", ts_a.info(), \"\\n\", \"\\n\", tr_a.info())"
      ],
      "execution_count": null,
      "outputs": []
    },
    {
      "cell_type": "code",
      "metadata": {
        "id": "P1ljUcXSmOEh"
      },
      "source": [
        "def date_formatter(test, train):\n",
        "    # Correct date formatting\n",
        "\n",
        "    test['createdDate'] = test['createdDate'].fillna(test['PublicationDetails']) # filling empty dates\n",
        "    test[\"dateTemp\"] = test['createdDate'].str.find(',') # temp variable locating lines where year is missing\n",
        "    \n",
        "    # add year to those lines\n",
        "    test.loc[test[\"dateTemp\"]==-1, \"createdDate\"] = test.loc[test[\"dateTemp\"]==-1, \"createdDate\"].astype(str) + \", 2019\" \n",
        "\n",
        "    test[\"createdDate\"] = pd.to_datetime(test[\"createdDate\"], format='%b %d, %Y')\n",
        "    train[\"createdDate\"] = pd.to_datetime(train[\"createdDate\"], format='%Y-%m-%d', errors='ignore')\n",
        "\n",
        "    test['year'], test['month'], test[\"dayofweek\"] = test['createdDate'].dt.year, test['createdDate'].dt.month, test['createdDate'].dt.dayofweek\n",
        "    train['year'], train['month'], train[\"dayofweek\"] = train['createdDate'].dt.year, train['createdDate'].dt.month, train['createdDate'].dt.dayofweek\n",
        "\n",
        "    return test, train"
      ],
      "execution_count": null,
      "outputs": []
    },
    {
      "cell_type": "code",
      "metadata": {
        "id": "1Ufr8TNLTEnm"
      },
      "source": [
        "ts_a, tr_a= date_formatter(ts_a, tr_a)"
      ],
      "execution_count": null,
      "outputs": []
    },
    {
      "cell_type": "code",
      "metadata": {
        "id": "9CrkFvaOzi7I"
      },
      "source": [
        "# dropping unwanted features, renaming\n",
        "\n",
        "ts_a = ts_a.drop([\"PublicationDetails\",\"AuthorInDomain\", \"dateTemp\"],axis=1) #drop helper variables \"Author\",\n",
        "ts_a = ts_a.rename(columns = {'Responses': 'responses', 'Header': 'header', 'Text': 'text', 'Length': 'textLength'}, inplace = False)\n",
        "tr_a = tr_a.rename(columns = {'responsesCreatedCount': 'responses'}, inplace = False)"
      ],
      "execution_count": null,
      "outputs": []
    },
    {
      "cell_type": "markdown",
      "metadata": {
        "id": "MGSJ3nADxVoM"
      },
      "source": [
        "#### Feature engineering: Author Details"
      ]
    },
    {
      "cell_type": "code",
      "metadata": {
        "id": "U7xXHNE7sIes"
      },
      "source": [
        "def author_details(test, train):\n",
        "# merge test authors with training info\n",
        "    df1 = pd.DataFrame(test.author.unique(), columns=['author']) \n",
        "    df2 = pd.DataFrame(train[[\"author\", \"usersFollowedByCount\", \"usersFollowedCount\"]])\n",
        "    df2 = df2.drop_duplicates(subset=('author'),keep='first')\n",
        "\n",
        "    inner_join = pd.merge(df1, \n",
        "              df2, \n",
        "              on ='author', \n",
        "              how ='inner')\n",
        "\n",
        "    df3 = test.author\n",
        "    left_join = pd.merge(df3, \n",
        "              inner_join, \n",
        "              on ='author', \n",
        "              how ='left') \n",
        "\n",
        "    test[\"usersFollowedByCount\"] = left_join[\"usersFollowedByCount\"].fillna(0)\n",
        "    test[\"usersFollowedCount\"] = left_join[\"usersFollowedCount\"].fillna(0)\n",
        "\n",
        "    return test, train"
      ],
      "execution_count": null,
      "outputs": []
    },
    {
      "cell_type": "code",
      "metadata": {
        "id": "e24F-6nJKo2e"
      },
      "source": [
        "ts_a, tr_a = author_details(ts_a, tr_a)"
      ],
      "execution_count": null,
      "outputs": []
    },
    {
      "cell_type": "code",
      "metadata": {
        "id": "OiE8ebWURDhY",
        "colab": {
          "base_uri": "https://localhost:8080/",
          "height": 212
        },
        "outputId": "c7f7574d-035e-42f6-b46f-a390a5734a66"
      },
      "source": [
        "# After Author based feature Engineering encode as category\n",
        "for col in ['author', 'year', 'month', 'dayofweek']:\n",
        "    ts_a[col] = ts_a[col].astype('category')\n",
        "    tr_a[col] = tr_a[col].astype('category')\n",
        "    \n",
        "print(ts_a.columns, \"\\n\",\"\\n\", tr_a.columns)\n"
      ],
      "execution_count": null,
      "outputs": [
        {
          "output_type": "stream",
          "text": [
            "Index(['level_0', 'Unnamed: 0', 'Author', 'responses', 'header', 'text',\n",
            "       'textLength', 'imageCount', 'linksCount', 'titleLength', 'createdDate',\n",
            "       'author', 'year', 'month', 'dayofweek', 'usersFollowedByCount',\n",
            "       'usersFollowedCount', 'author_Encoded', 'year_Encoded', 'month_Encoded',\n",
            "       'dayofweek_Encoded'],\n",
            "      dtype='object') \n",
            " \n",
            " Index(['createdDate', 'imageCount', 'responses', 'text', 'title',\n",
            "       'totalClapCount', 'author', 'usersFollowedByCount',\n",
            "       'usersFollowedCount', 'y_outlier', 'clap_zscore', 'linksCount',\n",
            "       'titleLength', 'textLength', 'year', 'month', 'dayofweek'],\n",
            "      dtype='object')\n"
          ],
          "name": "stdout"
        }
      ]
    },
    {
      "cell_type": "code",
      "metadata": {
        "id": "1CqDkIAhfrMl"
      },
      "source": [
        "#Checkpoint\n",
        "\n",
        "#save\n",
        "tr_a.to_csv('train_cleaned1.csv')\n",
        "ts_a.to_csv('test_cleaned1.csv')\n",
        "\n",
        "#load\n",
        "#tr_a = pd.read_csv('train_cleaned1.csv')\n",
        "#ts_a = pd.read_csv('test_cleaned1.csv')"
      ],
      "execution_count": null,
      "outputs": []
    },
    {
      "cell_type": "markdown",
      "metadata": {
        "id": "jlLv0Wj6TOtQ"
      },
      "source": [
        "### Text Cleaning\n",
        "\n",
        "In preparation of fitting Neural Net models on the text data, several steps are undertaken. After defining lists of stop words and contractions to delete/replace, cleaner functions are defined for: \n",
        "\n",
        "*   removing any non-text characters\n",
        "*   lowercasing of all text\n",
        "*   removing URLs\n",
        "*   removing HTML code\n",
        "\n",
        "Having removed noise in the text data makes it quicker to process and more easily interpretable for the encoder. \n",
        "\n",
        "Lemmatizing is *not* done with this data. It is a costly process that might increase quality, but since the text corpus is large, there will likely be enough data to create meaningful embeddings. "
      ]
    },
    {
      "cell_type": "markdown",
      "metadata": {
        "id": "_TN1YXpZHejg"
      },
      "source": [
        "#### Contraction and Stop Word Lists"
      ]
    },
    {
      "cell_type": "code",
      "metadata": {
        "id": "etDoyMO5TXZ-"
      },
      "source": [
        "contraction_mapping = { \n",
        "    \"ain't\": \"is not\", \"aren't\": \"are not\", \n",
        "    \"can't\": \"cannot\",     \"'cause\": \"because\", \n",
        "    \"could've\": \"could have\",     \"couldn't\": \"could not\",\n",
        "    \"didn't\": \"did not\",     \"doesn't\": \"does not\", \n",
        "    \"don't\": \"do not\",     \"hadn't\": \"had not\", \n",
        "    \"hasn't\": \"has not\",     \"haven't\": \"have not\",\n",
        "    \"he'd\": \"he would\",     \"he'll\": \"he will\", \n",
        "    \"he's\": \"he is\",     \"how'd\": \"how did\", \n",
        "    \"how'd'y\": \"how do you\",     \"how'll\": \"how will\", \n",
        "    \"how's\": \"how is\",    \"I'd\": \"I would\", \n",
        "    \"I'd've\": \"I would have\",     \"I'll\": \"I will\", \n",
        "    \"I'll've\": \"I will have\",     \"I'm\": \"I am\", \n",
        "    \"I've\": \"I have\",     \"i'd\": \"i would\",\n",
        "    \"i'd've\": \"i would have\",     \"i'll\": \"i will\", \n",
        "    \"i'll've\": \"i will have\",     \"i'm\": \"i am\", \n",
        "    \"i've\": \"i have\",     \"isn't\": \"is not\", \n",
        "    \"it'd\": \"it would\",    \"it'd've\": \"it would have\", \n",
        "    \"it'll\": \"it will\",    \"it'll've\": \"it will have\", \n",
        "    \"it's\": \"it is\",     \"let's\": \"let us\", \n",
        "    \"ma'am\": \"madam\",    \"mayn't\": \"may not\", \n",
        "    \"might've\": \"might have\",     \"mightn't\": \"might not\", \n",
        "    \"mightn't've\": \"might not have\",     \"must've\": \"must have\",\n",
        "    \"mustn't\": \"must not\",     \"mustn't've\": \"must not have\", \n",
        "    \"needn't\": \"need not\",     \"needn't've\": \"need not have\", \n",
        "    \"o'clock\": \"of the clock\",    \"oughtn't\": \"ought not\", \n",
        "    \"oughtn't've\": \"ought not have\",     \"shan't\": \"shall not\", \n",
        "    \"sha'n't\": \"shall not\",     \"shan't've\": \"shall not have\",\n",
        "    \"she'd\": \"she would\",     \"she'd've\": \"she would have\", \n",
        "    \"she'll\": \"she will\",     \"she'll've\": \"she will have\", \n",
        "    \"she's\": \"she is\",    \"should've\": \"should have\", \n",
        "    \"shouldn't\": \"should not\",     \"shouldn't've\": \"should not have\", \n",
        "    \"so've\": \"so have\",     \"so's\": \"so as\",\n",
        "    \"this's\": \"this is\",    \"that'd\": \"that would\", \n",
        "    \"that'd've\": \"that would have\",     \"that's\": \"that is\", \n",
        "    \"there'd\": \"there would\",    \"there'd've\": \"there would have\", \n",
        "    \"there's\": \"there is\",     \"here's\": \"here is\", \n",
        "    \"they'd\": \"they would\",    \"they'd've\": \"they would have\",\n",
        "    \"they'll\": \"they will\",    \"they'll've\": \"they will have\", \n",
        "    \"they're\": \"they are\",     \"they've\": \"they have\", \n",
        "    \"to've\": \"to have\",    \"wasn't\": \"was not\", \n",
        "    \"we'd\": \"we would\",    \"we'd've\": \"we would have\", \n",
        "    \"we'll\": \"we will\",    \"we'll've\": \"we will have\", \n",
        "    \"we're\": \"we are\",    \"we've\": \"we have\", \n",
        "    \"weren't\": \"were not\",     \"what'll\": \"what will\", \n",
        "    \"what'll've\": \"what will have\",     \"what're\": \"what are\",\n",
        "    \"what's\": \"what is\",     \"what've\": \"what have\", \n",
        "    \"when's\": \"when is\",     \"when've\": \"when have\", \n",
        "    \"where'd\": \"where did\",     \"where's\": \"where is\",\n",
        "    \"where've\": \"where have\",     \"who'll\": \"who will\", \n",
        "    \"who'll've\": \"who will have\",     \"who's\": \"who is\", \n",
        "    \"who've\": \"who have\",    \"why's\": \"why is\", \n",
        "    \"why've\": \"why have\",    \"will've\": \"will have\", \n",
        "    \"won't\": \"will not\",     \"won't've\": \"will not have\",\n",
        "    \"would've\": \"would have\",     \"wouldn't\": \"would not\", \n",
        "    \"wouldn't've\": \"would not have\",     \"y'all\": \"you all\",\n",
        "    \"y'all'd\": \"you all would\",     \"y'all'd've\": \"you all would have\", \n",
        "    \"y'all're\": \"you all are\",     \"y'all've\": \"you all have\",\n",
        "    \"you'd\": \"you would\",     \"you'd've\": \"you would have\", \n",
        "    \"you'll\": \"you will\",     \"you'll've\": \"you will have\",\n",
        "    \"you're\": \"you are\",     \"you've\": \"you have\"}"
      ],
      "execution_count": null,
      "outputs": []
    },
    {
      "cell_type": "code",
      "metadata": {
        "id": "q1OIUkyjScxG"
      },
      "source": [
        "# basic stopwords\n",
        "from nltk.corpus import stopwords\n",
        "stop_words = stopwords.words(\"english\")"
      ],
      "execution_count": null,
      "outputs": []
    },
    {
      "cell_type": "markdown",
      "metadata": {
        "id": "cQNz25_JHk2D"
      },
      "source": [
        "#### Cleaning functions"
      ]
    },
    {
      "cell_type": "code",
      "metadata": {
        "id": "ux_-AJ79TpwU"
      },
      "source": [
        "def cleaner_passover(text):\n",
        "  \"\"\"Operator function for initial text cleaning.\"\"\"\n",
        "  \n",
        "  punct_re_string = '|'.join('\\\\' + char for char in punctuation)\n",
        "  punct_re_string = r'['+punct_re_string+']'\n",
        "  hyphen_unicode_list = '[\\u002D\\u058A\\u05BE\\u1400\\u1806\\u2010-\\u2015\\u2E17\\u2E1A\\u2E3A\\u2E3B\\u2E40\\u301C\\u3030\\u30A0\\uFE31\\uFE32\\uFE58\\uFE63\\uFF0D]'\n",
        "  space_unicode_list = '[\\u00A0\\u1680​\\u180e\\u2000-\\u2009\\u200a​\\u200b​\\u202f\\u205f​\\u3000]'\n",
        "\n",
        "  text = text.lower()\n",
        "  text = unidecode.unidecode(text)\n",
        "  \n",
        "  text = ' '.join([contraction_mapping[word] if word in contraction_mapping else word for word in text.split(' ')]) #expand contractions\n",
        "  text = ' '.join([word for word in text.split(' ') if word not in stop_words]) #remove stopwords\n",
        "  text = text.replace('&', ' and ')\n",
        "  text = text.replace('@', ' at ')\n",
        "  text = re.sub(r'\\s' + re.escape(hyphen_unicode_list) + '\\s', ' ', text)\n",
        "  text = re.sub(re.escape(hyphen_unicode_list), ' ', text)\n",
        "  text = re.sub(r'\\s' + re.escape(space_unicode_list) + '\\s', ' ', text)\n",
        "  text = re.sub(re.escape(space_unicode_list), ' ', text)\n",
        "  text = text.replace(\"'\", ' ')\n",
        "  text = text.replace(\",\", ' ')\n",
        "  text = text.replace(\".\", ' ')\n",
        "  text = re.sub(punct_re_string, ' ', text)\n",
        "\n",
        "  text = re.sub(r'\\w*\\d+\\w*', ' ', text)\n",
        "  text = re.sub(r'\\d', ' ', text)\n",
        "  text = re.sub(r'\\b\\w\\b',' ', text) #remove remaining single characters\n",
        "\n",
        "  text = re.sub('\\s\\s+' , ' ', text)\n",
        "    \n",
        "  return text"
      ],
      "execution_count": null,
      "outputs": []
    },
    {
      "cell_type": "code",
      "metadata": {
        "id": "zHDWF3jmGKbp"
      },
      "source": [
        "def cleaning_handler(col, row, df_length):\n",
        "  \"\"\"Handler for cleaning functions.\"\"\"\n",
        "  \n",
        "  #row[col] = str(row[col])\n",
        "\n",
        "  row[col] = re.sub(r'<[^>]+>','', row[col])\n",
        "  #row[col] = BeautifulSoup(row[col]).text\n",
        "  row[col] = re.sub(r'[/\\r?\\n|\\r/]', ' ', row[col])\n",
        "  row[col] = re.sub(r'(?<![A-Z])(?<!^)([A-Z])',r' \\1', row[col]) \n",
        "  row[col] = re.sub(r'https?:\\/\\/[^\\s]*\\s', ' ', row[col])\n",
        "  row[col] = re.sub(r'www[^\\s]*\\s', ' ', row[col])\n",
        "  row[col] = re.sub(r'\\s[^\\s]*.com[\\s\\.]', ' ', row[col])\n",
        "\n",
        "  row[col] = cleaner_passover(row[col])\n",
        "  \n",
        "  print(f'\\rcompleted: {row.name + 1} of {df_length}', end='')\n",
        "  return row"
      ],
      "execution_count": null,
      "outputs": []
    },
    {
      "cell_type": "markdown",
      "metadata": {
        "id": "JOC16l4PmcFm"
      },
      "source": [
        "#### Run cleaning"
      ]
    },
    {
      "cell_type": "code",
      "metadata": {
        "id": "okXWsOoxGMwQ",
        "colab": {
          "base_uri": "https://localhost:8080/",
          "height": 33
        },
        "outputId": "65e2ef63-69cc-494d-d74d-1d338f70e331"
      },
      "source": [
        "ts_a = ts_a.reset_index()\n",
        "ts_a = ts_a.drop('index', axis=1)\n",
        "ts_a = ts_a.apply(lambda row: cleaning_handler(\"text\",row, len(ts_a)), axis=1)"
      ],
      "execution_count": null,
      "outputs": [
        {
          "output_type": "stream",
          "text": [
            "completed: 514 of 514"
          ],
          "name": "stdout"
        }
      ]
    },
    {
      "cell_type": "code",
      "metadata": {
        "id": "-0G9fytiMqn5",
        "colab": {
          "base_uri": "https://localhost:8080/",
          "height": 33
        },
        "outputId": "0f98998a-00c0-4938-8982-035ea27d93e8"
      },
      "source": [
        "# CLEANING TRAIN\n",
        "tr_a = tr_a.reset_index()\n",
        "tr_a = tr_a.drop('index', axis=1)\n",
        "tr_a = tr_a.apply(lambda row: cleaning_handler(\"text\",row, len(tr_a)), axis=1)"
      ],
      "execution_count": null,
      "outputs": [
        {
          "output_type": "stream",
          "text": [
            "completed: 63320 of 63320"
          ],
          "name": "stdout"
        }
      ]
    },
    {
      "cell_type": "markdown",
      "metadata": {
        "id": "6onrwYVyk1H9"
      },
      "source": [
        "### Final Data Prep, Training splits"
      ]
    },
    {
      "cell_type": "markdown",
      "metadata": {
        "id": "WUhTBWORCSl6"
      },
      "source": [
        "#### Train, Val splitting"
      ]
    },
    {
      "cell_type": "code",
      "metadata": {
        "id": "gswjC2xcCZIF"
      },
      "source": [
        "tr, val = train_test_split(tr_a, random_state = 2020, test_size=.2, \n",
        "                           stratify = pd.qcut(claps.values, 10, duplicates = 'drop'))\n",
        "\n",
        "tr_data = tr.copy()\n",
        "val_data = val.copy()\n"
      ],
      "execution_count": null,
      "outputs": []
    },
    {
      "cell_type": "markdown",
      "metadata": {
        "id": "X7oHwfMbWowk"
      },
      "source": [
        "### Encoding categorical variables\n",
        "\n",
        "After excessive pre-processing, several categorical variables have been added to the data. Fitting a model on this data can be difficult, as most models cannot deal with non-numeric features that are not ordinally scaled.\n",
        "\n",
        "One possible way to deal with this issue include **one-hot encoding** (many sparse vectors of zeros and ones, one for each factor level). This creates a very large dataframe that is cumbersome to use.\n",
        "\n",
        "\n",
        "Another promising approach is to train an **embedding** for factor variables that can be used as input to a neural network. For data with many categorical features, this might be an interesting strategy. Due to time constraints, this is outsite the scope of this project.\n",
        "\n",
        "Example for Embedding Encoding:\n",
        "https://machinelearningmastery.com/how-to-prepare-categorical-data-for-deep-learning-in-python/\n",
        "\n",
        "\n",
        "\n",
        "\n",
        "----\n",
        "----\n",
        "\n",
        "The option applied here is **Target Encoding**, where each factor level is encoded in a way that the mean target value for each factor level is inserted. This links the factor levels to the target and thus provides explanative value, but it is a possible source for target leaking.\n",
        "In order to avoid overfitting, 5-fold cross-validation is used for encoding.\n",
        "\n",
        "At this point, the training data is split into the training set and the validation set. The target encoder ist trained on the training set, and the values are then merged into the validation and test sets. For factor levels in test or val with no match in the training data, the overall median of the dependent variable ('totalClapCount') is imputed.\n",
        "\n",
        "_DISCLAIMER_: The code for k-fold target encoding was sourced externally from https://github.com/pourya-ir/Medium/blob/master/K-fold-target-enc/K-fold-Target-Encoding.ipynb\n",
        "\n",
        "\n"
      ]
    },
    {
      "cell_type": "markdown",
      "metadata": {
        "id": "85xBavkjXNmV"
      },
      "source": [
        "#### k-fold Target Encoding"
      ]
    },
    {
      "cell_type": "code",
      "metadata": {
        "id": "uPgNPz7Xfml-"
      },
      "source": [
        "from sklearn import base\n",
        "from sklearn.model_selection import KFold\n",
        "\n",
        "class KFoldTargetEncoderTrain(base.BaseEstimator, base.TransformerMixin):\n",
        "\n",
        "    def __init__(self, colnames,targetName,n_fold=5,verbosity=True,discardOriginal_col=False):\n",
        "\n",
        "        self.colnames = colnames\n",
        "        self.targetName = targetName\n",
        "        self.n_fold = n_fold\n",
        "        self.verbosity = verbosity\n",
        "        self.discardOriginal_col = discardOriginal_col\n",
        "\n",
        "    def fit(self, X, y=None):\n",
        "        return self\n",
        "\n",
        "\n",
        "    def transform(self,X):\n",
        "\n",
        "        assert(type(self.targetName) == str)\n",
        "        assert(type(self.colnames) == str)\n",
        "        assert(self.colnames in X.columns)\n",
        "        assert(self.targetName in X.columns)\n",
        "\n",
        "        mean_of_target = X[self.targetName].mean()\n",
        "        kf = KFold(n_splits = self.n_fold, shuffle = True, random_state=2020)\n",
        "        \n",
        "\n",
        "        col_mean_name = self.colnames + '_' + 'Encoded'\n",
        "        X[col_mean_name] = np.nan\n",
        "\n",
        "        for tr_ind, val_ind in kf.split(X):\n",
        "            X_tr, X_val = X.iloc[tr_ind], X.iloc[val_ind]\n",
        "            X.loc[X.index[val_ind], col_mean_name] = X_val[self.colnames].map(X_tr.groupby(self.colnames)[self.targetName].mean())\n",
        "\n",
        "        X[col_mean_name].fillna(mean_of_target, inplace = True)\n",
        "\n",
        "        if self.verbosity:\n",
        "\n",
        "            encoded_feature = X[col_mean_name].values\n",
        "            print('Correlation between the new feature, {} and, {} is {}.'.format(col_mean_name,\n",
        "                                                                                      self.targetName,\n",
        "                                                                                      np.corrcoef(X[self.targetName].values, encoded_feature)[0][1]))\n",
        "        if self.discardOriginal_col:\n",
        "            X = X.drop(self.targetName, axis=1)\n",
        "            \n",
        "\n",
        "        return X"
      ],
      "execution_count": null,
      "outputs": []
    },
    {
      "cell_type": "code",
      "metadata": {
        "id": "eCgiScPrf1qI",
        "colab": {
          "base_uri": "https://localhost:8080/",
          "height": 82
        },
        "outputId": "1d85e058-a73b-49e9-a080-062a1c1a3ed0"
      },
      "source": [
        "cols = tr_data[[\"author\", \"year\", \"month\", \"dayofweek\"]].columns\n",
        "\n",
        "for i in cols:\n",
        "    targetc = KFoldTargetEncoderTrain(i,'totalClapCount',n_fold=5)\n",
        "    tr_data = targetc.fit_transform(tr_data)"
      ],
      "execution_count": null,
      "outputs": [
        {
          "output_type": "stream",
          "text": [
            "Correlation between the new feature, author_Encoded and, totalClapCount is 0.5013132154068669.\n",
            "Correlation between the new feature, year_Encoded and, totalClapCount is 0.011056667350987398.\n",
            "Correlation between the new feature, month_Encoded and, totalClapCount is 0.038629825745740545.\n",
            "Correlation between the new feature, dayofweek_Encoded and, totalClapCount is 0.015420621988429976.\n"
          ],
          "name": "stdout"
        }
      ]
    },
    {
      "cell_type": "code",
      "metadata": {
        "id": "FIU1NfJdigcu"
      },
      "source": [
        "class KFoldTargetEncoderTest(base.BaseEstimator, base.TransformerMixin):\n",
        "    \n",
        "    def __init__(self,train,colNames,encodedName):\n",
        "        \n",
        "        self.train = train\n",
        "        self.colNames = colNames\n",
        "        self.encodedName = encodedName\n",
        "        \n",
        "        \n",
        "    def fit(self, X, y=None):\n",
        "        return self\n",
        "\n",
        "    def transform(self,X):\n",
        "\n",
        "\n",
        "        #mean = self.train[[self.colNames,self.encodedName]].groupby(self.colNames).mean().reset_index() \n",
        "        mean = self.train[[self.colNames,self.encodedName]].groupby(self.colNames).mean().reset_index() \n",
        "        \n",
        "        dd = {}\n",
        "        for index, row in mean.iterrows():\n",
        "            dd[row[self.colNames]] = row[self.encodedName]\n",
        "\n",
        "        \n",
        "        X[self.encodedName] = X[self.colNames]\n",
        "        X = X.replace({self.encodedName: dd})\n",
        "\n",
        "        return X"
      ],
      "execution_count": null,
      "outputs": []
    },
    {
      "cell_type": "code",
      "metadata": {
        "id": "k-V7YEC5ioW0"
      },
      "source": [
        "#cols = tr_data[[\"author\", \"year\", \"month\", \"dayofweek\"]].columns\n",
        "cols2 = tr_data[tr_data.columns[-4:]].columns\n",
        "\n",
        "# Match encoded variables with test data\n",
        "for i, j in zip(cols, cols2):\n",
        "    test_targetc = KFoldTargetEncoderTest(tr_data,i,j)\n",
        "    ts_a = test_targetc.fit_transform(ts_a)\n",
        "\n",
        "## Where there is no match of authors between test and train, we have to manually impute the mean\n",
        "median = tr_a.totalClapCount.median()\n",
        "ts_a[\"author_Encoded\"] = pd.to_numeric(ts_a.author_Encoded, errors='coerce')\n",
        "ts_a[\"author_Encoded\"] = ts_a[\"author_Encoded\"].fillna(median)\n",
        "\n",
        "# Match encoded variables with validation data\n",
        "for i, j in zip(cols, cols2):\n",
        "    test_targetc = KFoldTargetEncoderTest(tr_data,i,j)\n",
        "    val_data = test_targetc.fit_transform(val_data)\n",
        "\n",
        "val_data[\"author_Encoded\"] = pd.to_numeric(val_data.author_Encoded, errors='coerce')\n",
        "val_data[\"author_Encoded\"] = val_data[\"author_Encoded\"].fillna(median)\n"
      ],
      "execution_count": null,
      "outputs": []
    },
    {
      "cell_type": "markdown",
      "metadata": {
        "id": "3in4xgPVxLD7"
      },
      "source": [
        "### Checkpoint"
      ]
    },
    {
      "cell_type": "code",
      "metadata": {
        "id": "e3dfEksaozpK"
      },
      "source": [
        "#tr, tune = train_test_split(tr_data, random_state = 2020, test_size=.2)\n",
        "#tr_data = tr.copy()\n",
        "#tune_data = tune.copy()\n",
        "\n",
        "#del tr, tune"
      ],
      "execution_count": null,
      "outputs": []
    },
    {
      "cell_type": "code",
      "metadata": {
        "id": "FFhwpnpJWlyK"
      },
      "source": [
        "# Mini splits for quick training\n",
        "\n",
        "tr_mini = tr_data.copy().sample(n = 10000) \n",
        "val_mini = val_data.copy().sample(n = 1500) "
      ],
      "execution_count": null,
      "outputs": []
    },
    {
      "cell_type": "code",
      "metadata": {
        "id": "KaXzFOhAm2bX"
      },
      "source": [
        "#save\n",
        "tr_a.to_csv('train_cleaned2.csv')\n",
        "ts_a.to_csv('test_cleaned2.csv')\n",
        "\n",
        "tr_data.to_csv('train_data.csv')\n",
        "val_data.to_csv('val_data.csv')\n",
        "#tune_data.to_csv('tune_data.csv')\n",
        "\n",
        "tr_mini.to_csv('train_mini_data.csv')\n",
        "val_mini.to_csv('val_mini_data.csv')"
      ],
      "execution_count": null,
      "outputs": []
    },
    {
      "cell_type": "code",
      "metadata": {
        "id": "zRL3aZ_caBKA"
      },
      "source": [
        "#load\n",
        "tr_a = pd.read_csv('train_cleaned2.csv')\n",
        "ts_a = pd.read_csv('test_cleaned2.csv')\n",
        "\n",
        "tr_data = pd.read_csv('train_data.csv')\n",
        "val_data = pd.read_csv('val_data.csv')\n",
        "\n",
        "#tr_mini = pd.read_csv('train_mini_data.csv')\n",
        "#val_mini = pd.read_csv('val_mini_data.csv')\n",
        "\n",
        "ts_a"
      ],
      "execution_count": null,
      "outputs": []
    },
    {
      "cell_type": "markdown",
      "metadata": {
        "id": "cw1FVpt_Enqp"
      },
      "source": [
        "## Numeric-based regression models\n",
        "\n"
      ]
    },
    {
      "cell_type": "code",
      "metadata": {
        "id": "XYo2F_coMgKT",
        "colab": {
          "base_uri": "https://localhost:8080/",
          "height": 608
        },
        "outputId": "b4c89647-2e97-4e31-b8c3-e5a37457504b"
      },
      "source": [
        "target= \"totalClapCount\"\n",
        "\n",
        "train_y = tr_data[target]\n",
        "val_y = val_data[target]\n",
        "\n",
        "test = ts_a[[\"responses\", \"imageCount\", \"usersFollowedByCount\", \"usersFollowedCount\", \"linksCount\",\"titleLength\", \"textLength\", \"author_Encoded\", \"year_Encoded\", \"month_Encoded\", \"dayofweek_Encoded\"]].copy()\n",
        "features = [\"responses\", \"imageCount\", \"usersFollowedByCount\", \"usersFollowedCount\", \"linksCount\",\"titleLength\", \"textLength\", \"author_Encoded\", \"year_Encoded\", \"month_Encoded\", \"dayofweek_Encoded\"]\n",
        "\n",
        "fig, ax1 = plt.subplots(1, 1, figsize = (10, 10))\n",
        "ax1.hist(train_y, 10, label = 'Train Scores')\n",
        "ax1.hist(val_y, 10, label = 'Test Scores', alpha = 0.5)\n",
        "ax1.legend()\n",
        "plt.savefig('y_scaled-histogram.png')\n",
        "\n",
        "test_predictions = pd.DataFrame()\n",
        "#test_predictions = pd.read_csv('test_predictions.csv')\n",
        "\n",
        "mae = list()\n",
        "#maetxt = open(\"mae.txt\", \"r\")\n",
        "#mae= maetxt.read()\n"
      ],
      "execution_count": null,
      "outputs": [
        {
          "output_type": "execute_result",
          "data": {
            "text/plain": [
              "<matplotlib.legend.Legend at 0x7f5ec4c45860>"
            ]
          },
          "metadata": {
            "tags": []
          },
          "execution_count": 39
        },
        {
          "output_type": "display_data",
          "data": {
            "image/png": "[encoded data removed]",
            "text/plain": [
              "<Figure size 720x720 with 1 Axes>"
            ]
          },
          "metadata": {
            "tags": [],
            "needs_background": "light"
          }
        }
      ]
    },
    {
      "cell_type": "markdown",
      "metadata": {
        "id": "FO9MI2Q0tASs"
      },
      "source": [
        "### Baseline Linear Model\n",
        "\n",
        "In order to compare results of different models, a baseline is created. Since the highest correlation in the initial data was found in the \"responses\" variable, this is used as a baseline. \n",
        "\n",
        "A simple linear regression model ist created that only uses the response variable for prediction. \n",
        "\n",
        "Comparisons and, ultimately, model decisions are drawn on the basis of the mean absolute error (MAE). This metric is commonly used, as it has a rather intuitive interpretation: it measures the average magnitude of the errors in a set of predictions, without considering their direction. It’s the average over the test sample of the absolute differences between prediction and actual observation where all individual differences have equal weight.\n",
        "\n",
        "The Baseline model yields an MAE of 58.4. Any further model is compared to this metric."
      ]
    },
    {
      "cell_type": "code",
      "metadata": {
        "id": "G05tn3CqCP18",
        "colab": {
          "base_uri": "https://localhost:8080/",
          "height": 33
        },
        "outputId": "1972cf47-e40f-47f1-d065-de52847f83d6"
      },
      "source": [
        "#OLS on Responses only\n",
        "\n",
        "#val_y = val_data['totalClapCount']\n",
        "\n",
        "features = [\"responses\"]\n",
        "#features = [\"responses\", \"imageCount\", \"usersFollowedByCount\", \"usersFollowedCount\", \"linksCount\",\"titleLength\", \"textLength\", \"author_Encoded\", \"year_Encoded\", \"month_Encoded\", \"dayofweek_Encoded\"]\n",
        "\n",
        "X = tr_data[features]\n",
        "X_val = val_data[features]\n",
        "x_test = test[features]\n",
        "\n",
        "regressor = LinearRegression()  \n",
        "regressor.fit(X, train_y) #training the algorithm\n",
        "\n",
        "y_pred = regressor.predict(X_val)\n",
        "val_data['pred_claps_baseline'] = y_pred\n",
        "\n",
        "print('Baseline MAE:', metrics.mean_absolute_error(val_y, y_pred))\n",
        "error = metrics.mean_absolute_error(val_y, y_pred)\n",
        "\n",
        "mae.append((\"Baseline MAE\", error))\n",
        "\n",
        "coefficients = pd.concat([pd.DataFrame(X.columns),pd.DataFrame(np.transpose(regressor.coef_))], axis = 1)\n",
        "coefficients\n",
        "\n",
        "### Extracting prediction on test Data\n",
        "test_predictions_OLS = regressor.predict(x_test)\n",
        "test_predictions[\"baseline\"] = test_predictions_OLS\n"
      ],
      "execution_count": null,
      "outputs": [
        {
          "output_type": "stream",
          "text": [
            "Baseline MAE: 58.44764288786726\n"
          ],
          "name": "stdout"
        }
      ]
    },
    {
      "cell_type": "code",
      "metadata": {
        "id": "0xDvR0Z-soJL",
        "colab": {
          "base_uri": "https://localhost:8080/",
          "height": 33
        },
        "outputId": "0036b453-2503-4cb1-e5e7-53bfdaa435d4"
      },
      "source": [
        "#OLS on all features\n",
        "\n",
        "#val_y = val_data['totalClapCount']\n",
        "\n",
        "#features = [\"responses\"]\n",
        "features = [\"responses\", \"imageCount\", \"usersFollowedByCount\", \"usersFollowedCount\", \"linksCount\",\"titleLength\", \"textLength\", \"author_Encoded\", \"year_Encoded\", \"month_Encoded\", \"dayofweek_Encoded\"]\n",
        "\n",
        "X = tr_data[features]\n",
        "X_val = val_data[features]\n",
        "x_test = test[features]\n",
        "\n",
        "regressor = LinearRegression()  \n",
        "regressor.fit(X, train_y) #training the algorithm\n",
        "\n",
        "y_pred = regressor.predict(X_val)\n",
        "val_data['pred_claps_linear'] = y_pred\n",
        "\n",
        "\n",
        "print('OLS MAE:', metrics.mean_absolute_error(val_y, y_pred))\n",
        "\n",
        "error = metrics.mean_absolute_error(val_y, y_pred)\n",
        "mae.append((\"Linear Regression MAE\", error))\n",
        "\n",
        "coefficients = pd.concat([pd.DataFrame(X.columns),pd.DataFrame(np.transpose(regressor.coef_))], axis = 1)\n",
        "coefficients\n",
        "\n",
        "### Extracting prediction on test Data\n",
        "test_predictions_OLS = regressor.predict(x_test)\n",
        "test_predictions[\"linear\"] = test_predictions_OLS"
      ],
      "execution_count": null,
      "outputs": [
        {
          "output_type": "stream",
          "text": [
            "OLS MAE: 44.362656646638214\n"
          ],
          "name": "stdout"
        }
      ]
    },
    {
      "cell_type": "markdown",
      "metadata": {
        "id": "vKWUflqHC5eT"
      },
      "source": [
        "### Stacking Ensemble\n",
        "\n",
        "In an effort to further decrease the error, a stacking ensemble is set up. It combines predictions of several regression models (KNN, Decision Trees) and uses these as features in a final meta model (CV Ridge Regression). The idea is that a stacked model can harness the capabilities of a range of well-performing regression models and make predictions that have better performance than any single model in the ensemble.\n",
        "\n",
        "Given that the data is rather weak in its predictive value, it is interesting to see whether such an approach can help with predictions.\n",
        "\n",
        "The results are promising, as the stacked model has the lowest MAE. Unfortunately due to time constraints, the stack is rather small. Adding further models such as SVMs to the stack, or using a more sophisticated meta model (e.g. a large random forest) would likely improve performance further."
      ]
    },
    {
      "cell_type": "code",
      "metadata": {
        "id": "YnnWc1U9EcBH",
        "colab": {
          "base_uri": "https://localhost:8080/",
          "height": 592
        },
        "outputId": "18fb991f-c8ae-4ccf-d09b-e1bf892c51d9"
      },
      "source": [
        "### Stacking Model\n",
        "\n",
        "# compare ensemble to each standalone models for regression\n",
        "from numpy import mean\n",
        "from numpy import std\n",
        "from sklearn.datasets import make_regression\n",
        "from sklearn.model_selection import cross_val_score\n",
        "from sklearn.model_selection import RepeatedKFold\n",
        "from sklearn.linear_model import LinearRegression\n",
        "from sklearn.linear_model import RidgeCV\n",
        "from sklearn.neighbors import KNeighborsRegressor\n",
        "from sklearn.ensemble import RandomForestRegressor\n",
        "from sklearn.tree import DecisionTreeRegressor\n",
        "from sklearn.svm import SVR\n",
        "from sklearn.ensemble import StackingRegressor\n",
        "from matplotlib import pyplot\n",
        "\n",
        "y = tr_data[target]\n",
        "X = tr_data[features]\n",
        "val = val_data[features]\n",
        "\n",
        "# get a stacking ensemble of models\n",
        "def get_stacking():\n",
        "\t\t# define the base models\n",
        "\t\tlevel0 = list()\n",
        "\t\tlevel0.append(('knn', KNeighborsRegressor()))\n",
        "\t\tlevel0.append(('cart', DecisionTreeRegressor()))\n",
        "\t\t#level0.append(('svm', SVR()))\n",
        "\t\t#level0.append(('lr', RidgeCV()))\n",
        "\n",
        "\n",
        "\t\t# define meta learner model\n",
        "\t\t#level1 = LinearRegression()\n",
        "\t\tlevel1 = RidgeCV()\n",
        "\n",
        "\t\t# define the stacking ensemble\n",
        "\t\tmodel = StackingRegressor(estimators=level0, final_estimator=level1, cv=5)\n",
        "\t\treturn model\n",
        "\n",
        "# get a list of models to evaluate\n",
        "def get_models():\n",
        "\t\tmodels = dict()\n",
        "\t\tmodels['knn'] = KNeighborsRegressor()\n",
        "\t\tmodels['cart'] = DecisionTreeRegressor()\n",
        "\t\t#models['svm'] = SVR()\n",
        "\t\t#models['lr'] = RidgeCV()\n",
        "\t\tmodels['stacking'] = get_stacking()\n",
        "\t\treturn models\n",
        "\n",
        "# evaluate a given model using cross-validation\n",
        "def evaluate_model(model, X, y):\n",
        "\t\tcv = RepeatedKFold(n_splits=5, n_repeats=3, random_state=1)\n",
        "\t\tscores = cross_val_score(model, X, y, scoring='neg_mean_absolute_error', cv=cv, n_jobs=-1, error_score='raise')\n",
        "\t\treturn scores\n",
        "\n",
        "# get the models to evaluate\n",
        "models = get_models()\n",
        "# evaluate the models and store results\n",
        "results, names = list(), list()\n",
        "for name, model in models.items():\n",
        "\tscores = evaluate_model(model, X, y)\n",
        "\tresults.append(scores)\n",
        "\tnames.append(name)\n",
        "\tprint('>%s %.3f (%.3f)' % (name, mean(scores), std(scores)))\n",
        "\n",
        "# plot model performance for comparison\n",
        "pyplot.boxplot(results, labels=names, showmeans=True)\n",
        "pyplot.show()\n",
        "plt.savefig('stack_comparison.png')\n",
        "\n",
        "\n",
        "\n",
        "## Fitting the model for prediction\n",
        "#model.fit(X, y.values.ravel())\n",
        "\n",
        "#y_pred = model.predict(val)\n",
        "#print('Predicted Value: %.3f' % (y_pred))\n",
        "#print('Stacking Ensemble MAE:', metrics.mean_absolute_error(val_y, y_pred)) \n",
        "\n",
        "\n"
      ],
      "execution_count": null,
      "outputs": [
        {
          "output_type": "display_data",
          "data": {
            "image/png": "[encoded data removed]",
            "text/plain": [
              "<Figure size 1440x720 with 1 Axes>"
            ]
          },
          "metadata": {
            "tags": [],
            "needs_background": "light"
          }
        }
      ]
    },
    {
      "cell_type": "code",
      "metadata": {
        "id": "sfL2Teg8PUso",
        "colab": {
          "base_uri": "https://localhost:8080/",
          "height": 245
        },
        "outputId": "e1fbe2ca-dec5-4cb1-a725-f99f3665b820"
      },
      "source": [
        "### fit model for prediction\n",
        "\n",
        "y = tr_data[target]\n",
        "X = tr_data[features]\n",
        "x_test = test[features]\n",
        "\n",
        "# define the base models\n",
        "level0 = list()\n",
        "level0.append(('knn', KNeighborsRegressor()))\n",
        "level0.append(('cart', DecisionTreeRegressor()))\n",
        "# define meta learner model\n",
        "level1 = RidgeCV()\n",
        "\n",
        "# define the stacking ensemble\n",
        "model = StackingRegressor(estimators=level0, final_estimator=level1, cv=5)\n",
        "# fit the model on all available data\n",
        "model.fit(X, y)\n",
        "\n",
        "### Extracting prediction on test Data\n",
        "test_predictions_stack = model.predict(x_test)\n",
        "test_predictions[\"stack\"] = test_predictions_stack\n",
        "print(test_predictions)"
      ],
      "execution_count": null,
      "outputs": [
        {
          "output_type": "stream",
          "text": [
            "     Unnamed: 0      baseline       linear    miniCNN       stack\n",
            "0             0  11925.742588  8863.408011  47.466293  268.755283\n",
            "1             1   3000.265492  2155.761287  37.669350  153.851006\n",
            "2             2   3379.266643  2521.084323  22.881779  222.461128\n",
            "3             3   1408.460660   977.399136  42.054787  155.255167\n",
            "4             4    404.107611   289.836423  35.079487  148.558397\n",
            "..          ...           ...          ...        ...         ...\n",
            "509         509   3474.016931  2559.949675  41.813400  160.223739\n",
            "510         510    498.857899   484.274815  62.019775  219.198526\n",
            "511         511    498.857899 -1472.864904  30.609410  158.492773\n",
            "512         512   2242.263191  1641.677255  26.714950  149.854546\n",
            "513         513    688.358474   512.331273  27.996592  148.882434\n",
            "\n",
            "[514 rows x 5 columns]\n"
          ],
          "name": "stdout"
        }
      ]
    },
    {
      "cell_type": "markdown",
      "metadata": {
        "id": "JPoz-qc76qUM"
      },
      "source": [
        "## Language Model\n",
        "\n",
        "The models in this section only use text data from the articles. The tokens are embedded usind a GloVe Embedding, resulting in a vocabulary of 194.000 words.\n",
        "\n",
        "Two CNN models are applied, one simple with one convolutional layer, and a more sophisticated model with multiple layers and dropout for overfitting prevention.\n",
        "\n",
        "CNNs have shown to be efficient in certain text based regression applications (https://www.aclweb.org/anthology/P15-2030/). With their filter kernels they are suited for context detection in the data.\n",
        "\n",
        "Both models use ReLu activation functions throughout in order to not limit predictions to 1.\n",
        "\n",
        "The first model ist trained with a 200d embedding, resulting in 39,665,133 total parameters.\n",
        "\n",
        "The complexity of the second model comes with a dramatic increase in processing time. This is reflected in a reduced embedding size for training in order to reduce parameters to 19,850,133 and save time. \n",
        "\n",
        "The time consumption of model training using large embeddings are only acceptable if the results improve significantly."
      ]
    },
    {
      "cell_type": "code",
      "metadata": {
        "id": "GOH6lNfbF1kx"
      },
      "source": [
        "# Importing libraries\n",
        "from keras.models import Model\n",
        "from keras.models import Sequential\n",
        "from keras.layers import Dense, Embedding, Input, Flatten\n",
        "from keras.layers import Conv1D, GlobalMaxPool1D, MaxPooling1D,Dropout, concatenate\n",
        "from keras.preprocessing import text, sequence\n",
        "\n",
        "from keras.callbacks import EarlyStopping, ModelCheckpoint\n",
        "\n",
        "from keras import optimizers\n",
        "from keras import initializers\n",
        "from keras import losses\n",
        "\n",
        "from sklearn.model_selection import train_test_split\n",
        "\n",
        "import matplotlib.pyplot as plt\n",
        "%matplotlib inline"
      ],
      "execution_count": null,
      "outputs": []
    },
    {
      "cell_type": "markdown",
      "metadata": {
        "id": "ggi4OeQVcA29"
      },
      "source": [
        "### Model setup"
      ]
    },
    {
      "cell_type": "code",
      "metadata": {
        "id": "-bvV2bowIVGP"
      },
      "source": [
        "# define network parameters\n",
        "max_features = 20000 ##20000\n",
        "maxlen = 200 ##100\n",
        "text_field = 'text'\n"
      ],
      "execution_count": null,
      "outputs": []
    },
    {
      "cell_type": "code",
      "metadata": {
        "id": "6wyyhcSPMT1R"
      },
      "source": [
        "#list_sentences_full = tr_data[\"text\"].fillna(\"Invalid\").values\n",
        "\n",
        "list_sentences_train = tr_data[\"text\"].fillna(\"Invalid\").values\n",
        "list_sentences_val = val_data[\"text\"].fillna(\"Invalid\").values\n",
        "list_sentences_test = ts_a[\"text\"].fillna(\"Invalid\").values\n",
        "\n",
        "#list_sentences_train = tr_mini[\"text\"].fillna(\"Invalid\").values\n",
        "#list_sentences_val = val_mini[\"text\"].fillna(\"Invalid\").values\n"
      ],
      "execution_count": null,
      "outputs": []
    },
    {
      "cell_type": "markdown",
      "metadata": {
        "id": "RetPWBjxlJbU"
      },
      "source": [
        "#### Tokenizer"
      ]
    },
    {
      "cell_type": "code",
      "metadata": {
        "id": "VjfIBg9Ymuqd",
        "colab": {
          "base_uri": "https://localhost:8080/",
          "height": 33
        },
        "outputId": "bbc30fb0-04d9-4aa8-8a19-a1ee0ce6a409"
      },
      "source": [
        "article_tokeniser = text.Tokenizer(num_words=max_features,lower=False)\n",
        "\n",
        "article_tokeniser.fit_on_texts(list_sentences_train) # list_sentences_full or list_sentences_train for small vocabulary\n",
        "\n",
        "# train\n",
        "train_sequences_article = article_tokeniser.texts_to_sequences(list_sentences_train)\n",
        "texts_tr = sequence.pad_sequences(train_sequences_article, maxlen=maxlen) #, padding='post'\n",
        "\n",
        "# val\n",
        "val_sequences_article = article_tokeniser.texts_to_sequences(list_sentences_val)\n",
        "texts_val = sequence.pad_sequences(val_sequences_article, maxlen=maxlen) #, padding='post'\n",
        "\n",
        "# test (for final prediction)\n",
        "test_sequences_article = article_tokeniser.texts_to_sequences(list_sentences_test)\n",
        "texts_test = sequence.pad_sequences(test_sequences_article, maxlen=maxlen) #, padding='post'\n",
        "\n",
        "# Vocabulary size\n",
        "article_vocabulary = article_tokeniser.word_index\n",
        "article_vocabulary_size = len(article_tokeniser.word_index) + 1\n",
        "print(f'article vocabulary size: {article_vocabulary_size}')"
      ],
      "execution_count": null,
      "outputs": [
        {
          "output_type": "stream",
          "text": [
            "article vocabulary size: 194228\n"
          ],
          "name": "stdout"
        }
      ]
    },
    {
      "cell_type": "code",
      "metadata": {
        "id": "6lCTr-HgbWn_"
      },
      "source": [
        "\n",
        "\n",
        "### Article\n",
        "\n",
        "with open('tokenizer_article.pkl', 'wb') as article_tokeniser_out:\n",
        "    pickle.dump(article_tokeniser, article_tokeniser_out, protocol=pickle.HIGHEST_PROTOCOL)\n",
        "\n",
        "with open('train_sequences_article.pkl', 'wb') as train_sequences_article_out:\n",
        "    pickle.dump(train_sequences_article, train_sequences_article_out, protocol=pickle.HIGHEST_PROTOCOL)\n",
        "    \n",
        "with open('val_sequences_article.pkl', 'wb') as val_sequences_article_out:\n",
        "    pickle.dump(val_sequences_article, val_sequences_article_out, protocol=pickle.HIGHEST_PROTOCOL)\n",
        "\n",
        "with open('test_sequences_article.pkl', 'wb') as test_sequences_article_out:\n",
        "    pickle.dump(test_sequences_article, test_sequences_article_out, protocol=pickle.HIGHEST_PROTOCOL)\n",
        "\n",
        "\n",
        "### LOADING\n",
        "with open('tokenizer_article.pkl', 'rb') as article_tokeniser_in:\n",
        "    article_tokeniser = pickle.load(article_tokeniser_in)\n",
        "    article_vocabulary = article_tokeniser.word_index\n",
        "    article_vocabulary_size = len(article_tokeniser.word_index) + 1\n",
        "\n",
        "with open('train_sequences_article.pkl', 'rb') as train_sequences_article_in:\n",
        "    train_sequences_article = pickle.load(train_sequences_article_in)\n",
        "\n",
        "with open('test_sequences_article.pkl', 'rb') as test_sequences_article_in:\n",
        "    test_sequences_article = pickle.load(test_sequences_article_in)"
      ],
      "execution_count": null,
      "outputs": []
    },
    {
      "cell_type": "markdown",
      "metadata": {
        "id": "hkplcLYicLZd"
      },
      "source": [
        "#### GloVe Embedding\n",
        "\n",
        "https://machinelearningmastery.com/use-word-embedding-layers-deep-learning-keras/"
      ]
    },
    {
      "cell_type": "code",
      "metadata": {
        "id": "aQbJq_zldiIr"
      },
      "source": [
        "#!wget http://nlp.stanford.edu/data/glove.6B.zip\n",
        "\n",
        "#import zipfile\n",
        "#zip_ref = zipfile.ZipFile('/content/drive/My Drive/ADAMS/glove.6B.zip', 'r')\n",
        "#zip_ref.extractall('/content/drive/My Drive/ADAMS/GloVe/')\n",
        "#zip_ref.close()"
      ],
      "execution_count": null,
      "outputs": []
    },
    {
      "cell_type": "code",
      "metadata": {
        "id": "XuklLV0ucOQz"
      },
      "source": [
        "# Load embedding\n",
        "embeddings_index = {}\n",
        "with open('GloVe/glove.6B.100d.txt') as glove_in:\n",
        "    for line in glove_in:\n",
        "        word, coefs = line.split(maxsplit=1)\n",
        "        coefs = np.fromstring(coefs, 'f', sep=' ')\n",
        "        embeddings_index[word] = coefs\n"
      ],
      "execution_count": null,
      "outputs": []
    },
    {
      "cell_type": "code",
      "metadata": {
        "id": "WxFsyJVctIe0"
      },
      "source": [
        "count_words = article_vocabulary_size\n",
        "embedding_matrix = np.zeros((count_words, 100))\n",
        "for word, i in article_vocabulary.items():\n",
        "    if i >= article_vocabulary_size:\n",
        "        continue\n",
        "\n",
        "    embedding_vector = embeddings_index.get(word)\n",
        "    if embedding_vector is not None:\n",
        "        embedding_matrix[i] = embedding_vector"
      ],
      "execution_count": null,
      "outputs": []
    },
    {
      "cell_type": "markdown",
      "metadata": {
        "id": "N3aGjrKvauv2"
      },
      "source": [
        "### Language Model Training"
      ]
    },
    {
      "cell_type": "markdown",
      "metadata": {
        "id": "y3AsmA695TwO"
      },
      "source": [
        "#### Simple CNN"
      ]
    },
    {
      "cell_type": "code",
      "metadata": {
        "id": "LbIlO5jF5SWf",
        "colab": {
          "base_uri": "https://localhost:8080/",
          "height": 342
        },
        "outputId": "67bbd450-7cc0-4eb8-d7ea-58272d3d557d"
      },
      "source": [
        "embed_size = 200\n",
        "\n",
        "target= \"totalClapCount\"\n",
        "#target = \"clap_zscore\"\n",
        "\n",
        "train_y = tr_data[target]\n",
        "val_y = val_data[target]\n",
        "\n",
        "\n",
        "\n",
        "embedding_layer = Embedding(count_words, embed_size,\n",
        "                    embeddings_initializer=initializers.Constant(embedding_matrix),\n",
        "                    input_length=maxlen,trainable=False)\n",
        "\n",
        "model = Sequential() # initilaizing the Sequential nature for CNN model\n",
        "model.add(embedding_layer)\n",
        "model.add(Conv1D(32, 3, padding='same', activation='relu'))\n",
        "model.add(MaxPooling1D())\n",
        "model.add(Flatten())\n",
        "model.add(Dense(250, activation='relu'))\n",
        "model.add(Dense(1, activation='relu'))\n",
        "\n",
        "model.compile(loss='mse', optimizer='adam', metrics=['mean_absolute_error'])\n",
        "model.summary()"
      ],
      "execution_count": null,
      "outputs": [
        {
          "output_type": "stream",
          "text": [
            "Model: \"sequential_12\"\n",
            "_________________________________________________________________\n",
            "Layer (type)                 Output Shape              Param #   \n",
            "=================================================================\n",
            "embedding_14 (Embedding)     (None, 200, 200)          38845400  \n",
            "_________________________________________________________________\n",
            "conv1d_22 (Conv1D)           (None, 200, 32)           19232     \n",
            "_________________________________________________________________\n",
            "max_pooling1d_11 (MaxPooling (None, 100, 32)           0         \n",
            "_________________________________________________________________\n",
            "flatten_11 (Flatten)         (None, 3200)              0         \n",
            "_________________________________________________________________\n",
            "dense_24 (Dense)             (None, 250)               800250    \n",
            "_________________________________________________________________\n",
            "dense_25 (Dense)             (None, 1)                 251       \n",
            "=================================================================\n",
            "Total params: 39,665,133\n",
            "Trainable params: 819,733\n",
            "Non-trainable params: 38,845,400\n",
            "_________________________________________________________________\n"
          ],
          "name": "stdout"
        }
      ]
    },
    {
      "cell_type": "code",
      "metadata": {
        "id": "Kx4lruvo6911",
        "colab": {
          "base_uri": "https://localhost:8080/",
          "height": 281
        },
        "outputId": "7ce1122b-7426-4a60-9032-cd4d1d51b4d2"
      },
      "source": [
        "# Training\n",
        "\n",
        "batch_size = 500\n",
        "epochs = 3\n",
        "\n",
        "file_path=\"weights_simple.hdf5\"\n",
        "checkpoint = ModelCheckpoint(file_path, monitor='mean_absolute_error', save_freq=50, verbose=1, save_best_only=True, mode='min')\n",
        "early = EarlyStopping(monitor=\"mean_absolute_error\", mode=\"min\", patience=5)\n",
        "\n",
        "callbacks_list = [checkpoint, early] #early\n",
        "model.fit(texts_tr, train_y, \n",
        "          batch_size=batch_size, \n",
        "          epochs=epochs, \n",
        "          validation_split=0.2, \n",
        "          callbacks=callbacks_list)"
      ],
      "execution_count": null,
      "outputs": [
        {
          "output_type": "stream",
          "text": [
            "Epoch 1/3\n",
            "49/82 [================>.............] - ETA: 11s - loss: 9332.1465 - mean_absolute_error: 61.2025\n",
            "Epoch 00001: mean_absolute_error improved from inf to 61.10183, saving model to weights_simple.hdf5\n",
            "82/82 [==============================] - 71s 866ms/step - loss: 9110.4189 - mean_absolute_error: 60.6514 - val_loss: 8838.4590 - val_mean_absolute_error: 56.4862\n",
            "Epoch 2/3\n",
            "17/82 [=====>........................] - ETA: 24s - loss: 9286.4043 - mean_absolute_error: 60.8503\n",
            "Epoch 00002: mean_absolute_error improved from 61.10183 to 60.64757, saving model to weights_simple.hdf5\n",
            "67/82 [=======================>......] - ETA: 15s - loss: 8746.5342 - mean_absolute_error: 59.4405\n",
            "Epoch 00002: mean_absolute_error improved from 60.64757 to 59.43910, saving model to weights_simple.hdf5\n",
            "82/82 [==============================] - 119s 1s/step - loss: 8680.0039 - mean_absolute_error: 59.0304 - val_loss: 8623.1533 - val_mean_absolute_error: 61.8959\n",
            "Epoch 3/3\n",
            "35/82 [===========>..................] - ETA: 20s - loss: 8416.4971 - mean_absolute_error: 58.0624\n",
            "Epoch 00003: mean_absolute_error improved from 59.43910 to 57.92026, saving model to weights_simple.hdf5\n",
            "82/82 [==============================] - 84s 1s/step - loss: 8420.1152 - mean_absolute_error: 57.7593 - val_loss: 8425.9209 - val_mean_absolute_error: 54.6099\n"
          ],
          "name": "stdout"
        },
        {
          "output_type": "execute_result",
          "data": {
            "text/plain": [
              "<tensorflow.python.keras.callbacks.History at 0x7f46316797b8>"
            ]
          },
          "metadata": {
            "tags": []
          },
          "execution_count": 491
        }
      ]
    },
    {
      "cell_type": "code",
      "metadata": {
        "id": "iVohssUyfB1M"
      },
      "source": [
        "model.load_weights(file_path)\n",
        "model.save('simple_model.h5')"
      ],
      "execution_count": null,
      "outputs": []
    },
    {
      "cell_type": "markdown",
      "metadata": {
        "id": "j23pgbLr62VB"
      },
      "source": [
        "##### Evaluate & Predict"
      ]
    },
    {
      "cell_type": "code",
      "metadata": {
        "id": "UT1ufhDU636U",
        "colab": {
          "base_uri": "https://localhost:8080/",
          "height": 482
        },
        "outputId": "3c5886a9-6c29-4163-fa58-dd628430b1f2"
      },
      "source": [
        "model.evaluate(texts_val, val_y)\n",
        "\n",
        "val_data['pred_claps_miniCNN'] = model.predict(texts_val)\n",
        "\n",
        "print('simple CNN MAE:', metrics.mean_absolute_error(val_y, val_data['pred_claps_miniCNN']))\n",
        "\n",
        "fig, ax1 = plt.subplots(1, 1, figsize = (5, 5))\n",
        "ax1.plot(val_data['totalClapCount'], val_data['pred_claps_miniCNN'], 'ro', label = 'Prediction')\n",
        "ax1.plot(val_data['totalClapCount'], val_data['totalClapCount'], 'b-', label = 'Actual')\n",
        "ax1.legend()\n",
        "plt.savefig('CNN1_preds.png')\n",
        "\n",
        "val_data.pred_claps_miniCNN.describe()"
      ],
      "execution_count": null,
      "outputs": [
        {
          "output_type": "stream",
          "text": [
            "simple CNN MAE: 57.966375552010895\n"
          ],
          "name": "stdout"
        },
        {
          "output_type": "execute_result",
          "data": {
            "text/plain": [
              "count    12664.000000\n",
              "mean        48.434303\n",
              "std         25.925753\n",
              "min          0.000000\n",
              "25%         31.654070\n",
              "50%         47.481936\n",
              "75%         64.380688\n",
              "max        172.191666\n",
              "Name: pred_claps_miniCNN, dtype: float64"
            ]
          },
          "metadata": {
            "tags": []
          },
          "execution_count": 559
        },
        {
          "output_type": "display_data",
          "data": {
            "image/png": "[encoded data removed]",
            "text/plain": [
              "<Figure size 360x360 with 1 Axes>"
            ]
          },
          "metadata": {
            "tags": [],
            "needs_background": "light"
          }
        }
      ]
    },
    {
      "cell_type": "code",
      "metadata": {
        "id": "XXLX_ks6wsGx",
        "colab": {
          "base_uri": "https://localhost:8080/",
          "height": 245
        },
        "outputId": "380b96aa-ac6a-4ced-bff4-bbf67d559d08"
      },
      "source": [
        "error = metrics.mean_absolute_error(val_y, val_data['pred_claps_miniCNN'])\n",
        "\n",
        "mae.append((\"SimpleCNN MAE\", error))\n",
        "\n",
        "### Extracting prediction on test Data\n",
        "test_predictions_miniCNN = model.predict(texts_test)\n",
        "test_predictions[\"miniCNN\"] = test_predictions_miniCNN\n",
        "print(test_predictions)"
      ],
      "execution_count": null,
      "outputs": [
        {
          "output_type": "stream",
          "text": [
            "         baseline       linear    miniCNN\n",
            "0    11925.742588  8863.408011  47.466293\n",
            "1     3000.265492  2155.761287  37.669350\n",
            "2     3379.266643  2521.084323  22.881779\n",
            "3     1408.460660   977.399136  42.054787\n",
            "4      404.107611   289.836423  35.079487\n",
            "..            ...          ...        ...\n",
            "509   3474.016931  2559.949675  41.813400\n",
            "510    498.857899   484.274815  62.019775\n",
            "511    498.857899 -1472.864904  30.609409\n",
            "512   2242.263191  1641.677255  26.714951\n",
            "513    688.358474   512.331273  27.996592\n",
            "\n",
            "[514 rows x 3 columns]\n"
          ],
          "name": "stdout"
        }
      ]
    },
    {
      "cell_type": "markdown",
      "metadata": {
        "id": "JDiaTau2l0DG"
      },
      "source": [
        "#### Complex CNN"
      ]
    },
    {
      "cell_type": "code",
      "metadata": {
        "id": "7vvSRQIfOckm",
        "colab": {
          "base_uri": "https://localhost:8080/",
          "height": 927
        },
        "outputId": "8c1b5552-7f51-497d-e1ba-4b5bf7dfb215"
      },
      "source": [
        "\n",
        "def build_model(conv_layers = 2, max_dilation_rate = 3):\n",
        "    embed_size = 100 #glove 100\n",
        "    #embed_size = 128 # from default embed\n",
        "    inp = Input(shape=(maxlen, ))\n",
        "    #x = Embedding(max_features, embed_size)(inp)\n",
        "    x = Embedding(count_words, embed_size,\n",
        "                                    embeddings_initializer=initializers.Constant(embedding_matrix),\n",
        "                                    input_length=maxlen,\n",
        "                                    trainable=False)(inp)\n",
        "    x = Dropout(0.1)(x) #0.25\n",
        "    x = Conv1D(2*embed_size, kernel_size = 3, padding='same', activation='relu')(x)\n",
        "    prefilt_x = Conv1D(2*embed_size, kernel_size = 3,padding='same', activation='relu')(x)\n",
        "    \n",
        "    out_conv = []\n",
        "   \n",
        "    #dilation rate lets us use ngrams and skip grams to process \n",
        "    for dilation_rate in range(max_dilation_rate):\n",
        "        x = prefilt_x\n",
        "        for i in range(3):\n",
        "            x = Conv1D(32*2**(i), kernel_size = 3, dilation_rate = dilation_rate+1,padding='same', activation='relu')(x)    \n",
        "        out_conv += [Dropout(0.1)(GlobalMaxPool1D()(x))] #dropout 0.25\n",
        "    x = concatenate(out_conv, axis = -1)    \n",
        "    x = Dense(250, activation='relu')(x) #dense 50\n",
        "    #x = Dropout(0.1)(x) #dropout 0.15\n",
        "    x = Dense(1, activation='relu')(x) #'tanh' when normalized?!\n",
        "    \n",
        "    model = Model(inputs=inp, outputs=x)\n",
        "    opt = optimizers.Adam(learning_rate=0.01)\n",
        "\n",
        "    model.compile(loss='mse',\n",
        "                  optimizer=opt,\n",
        "                  metrics=['mean_absolute_error'])\n",
        "\n",
        "    return model\n",
        "\n",
        "model = build_model()\n",
        "model.summary()"
      ],
      "execution_count": null,
      "outputs": [
        {
          "output_type": "stream",
          "text": [
            "Model: \"functional_5\"\n",
            "__________________________________________________________________________________________________\n",
            "Layer (type)                    Output Shape         Param #     Connected to                     \n",
            "==================================================================================================\n",
            "input_3 (InputLayer)            [(None, 200)]        0                                            \n",
            "__________________________________________________________________________________________________\n",
            "embedding_2 (Embedding)         (None, 200, 100)     19422800    input_3[0][0]                    \n",
            "__________________________________________________________________________________________________\n",
            "dropout_8 (Dropout)             (None, 200, 100)     0           embedding_2[0][0]                \n",
            "__________________________________________________________________________________________________\n",
            "conv1d_22 (Conv1D)              (None, 200, 200)     60200       dropout_8[0][0]                  \n",
            "__________________________________________________________________________________________________\n",
            "conv1d_23 (Conv1D)              (None, 200, 200)     120200      conv1d_22[0][0]                  \n",
            "__________________________________________________________________________________________________\n",
            "conv1d_24 (Conv1D)              (None, 200, 32)      19232       conv1d_23[0][0]                  \n",
            "__________________________________________________________________________________________________\n",
            "conv1d_27 (Conv1D)              (None, 200, 32)      19232       conv1d_23[0][0]                  \n",
            "__________________________________________________________________________________________________\n",
            "conv1d_30 (Conv1D)              (None, 200, 32)      19232       conv1d_23[0][0]                  \n",
            "__________________________________________________________________________________________________\n",
            "conv1d_25 (Conv1D)              (None, 200, 64)      6208        conv1d_24[0][0]                  \n",
            "__________________________________________________________________________________________________\n",
            "conv1d_28 (Conv1D)              (None, 200, 64)      6208        conv1d_27[0][0]                  \n",
            "__________________________________________________________________________________________________\n",
            "conv1d_31 (Conv1D)              (None, 200, 64)      6208        conv1d_30[0][0]                  \n",
            "__________________________________________________________________________________________________\n",
            "conv1d_26 (Conv1D)              (None, 200, 128)     24704       conv1d_25[0][0]                  \n",
            "__________________________________________________________________________________________________\n",
            "conv1d_29 (Conv1D)              (None, 200, 128)     24704       conv1d_28[0][0]                  \n",
            "__________________________________________________________________________________________________\n",
            "conv1d_32 (Conv1D)              (None, 200, 128)     24704       conv1d_31[0][0]                  \n",
            "__________________________________________________________________________________________________\n",
            "global_max_pooling1d_6 (GlobalM (None, 128)          0           conv1d_26[0][0]                  \n",
            "__________________________________________________________________________________________________\n",
            "global_max_pooling1d_7 (GlobalM (None, 128)          0           conv1d_29[0][0]                  \n",
            "__________________________________________________________________________________________________\n",
            "global_max_pooling1d_8 (GlobalM (None, 128)          0           conv1d_32[0][0]                  \n",
            "__________________________________________________________________________________________________\n",
            "dropout_9 (Dropout)             (None, 128)          0           global_max_pooling1d_6[0][0]     \n",
            "__________________________________________________________________________________________________\n",
            "dropout_10 (Dropout)            (None, 128)          0           global_max_pooling1d_7[0][0]     \n",
            "__________________________________________________________________________________________________\n",
            "dropout_11 (Dropout)            (None, 128)          0           global_max_pooling1d_8[0][0]     \n",
            "__________________________________________________________________________________________________\n",
            "concatenate_2 (Concatenate)     (None, 384)          0           dropout_9[0][0]                  \n",
            "                                                                 dropout_10[0][0]                 \n",
            "                                                                 dropout_11[0][0]                 \n",
            "__________________________________________________________________________________________________\n",
            "dense_4 (Dense)                 (None, 250)          96250       concatenate_2[0][0]              \n",
            "__________________________________________________________________________________________________\n",
            "dense_5 (Dense)                 (None, 1)            251         dense_4[0][0]                    \n",
            "==================================================================================================\n",
            "Total params: 19,850,133\n",
            "Trainable params: 427,333\n",
            "Non-trainable params: 19,422,800\n",
            "__________________________________________________________________________________________________\n"
          ],
          "name": "stdout"
        }
      ]
    },
    {
      "cell_type": "code",
      "metadata": {
        "id": "ViPI7ohWPMCk",
        "colab": {
          "base_uri": "https://localhost:8080/",
          "height": 216
        },
        "outputId": "2feea65b-298d-4e1c-ebb4-4975f0435f56"
      },
      "source": [
        "# Training\n",
        "batch_size = 1000\n",
        "epochs = 3\n",
        "\n",
        "file_path=\"bigCNN_weights.hdf5\"\n",
        "checkpoint = ModelCheckpoint(file_path, monitor='mean_absolute_error', save_freq=50, verbose=1, save_best_only=True, mode='min')\n",
        "early = EarlyStopping(monitor=\"mean_absolute_error\", mode=\"min\", patience=5)\n",
        "\n",
        "callbacks_list = [checkpoint, early] #early\n",
        "model.fit(texts_tr, train_y, \n",
        "          batch_size=batch_size, \n",
        "          epochs=epochs, \n",
        "          validation_split=0.2, \n",
        "          callbacks=callbacks_list)"
      ],
      "execution_count": null,
      "outputs": [
        {
          "output_type": "stream",
          "text": [
            "Epoch 1/3\n",
            "41/41 [==============================] - 416s 10s/step - loss: 9298.1621 - mean_absolute_error: 61.2061 - val_loss: 8934.6162 - val_mean_absolute_error: 59.9213\n",
            "Epoch 2/3\n",
            " 8/41 [====>.........................] - ETA: 4:43 - loss: 8641.4033 - mean_absolute_error: 59.1167\n",
            "Epoch 00002: mean_absolute_error improved from inf to 59.24880, saving model to bigCNN_weights.hdf5\n",
            "41/41 [==============================] - 435s 11s/step - loss: 8926.2695 - mean_absolute_error: 60.3067 - val_loss: 8907.8096 - val_mean_absolute_error: 55.2018\n",
            "Epoch 3/3\n",
            "17/41 [===========>..................] - ETA: 3:42 - loss: 8954.4844 - mean_absolute_error: 59.6701\n",
            "Epoch 00003: mean_absolute_error did not improve from 59.24880\n",
            "41/41 [==============================] - 416s 10s/step - loss: 8727.5176 - mean_absolute_error: 58.7898 - val_loss: 8591.1035 - val_mean_absolute_error: 57.9161\n"
          ],
          "name": "stdout"
        },
        {
          "output_type": "execute_result",
          "data": {
            "text/plain": [
              "<tensorflow.python.keras.callbacks.History at 0x7f5ebcf9a710>"
            ]
          },
          "metadata": {
            "tags": []
          },
          "execution_count": 68
        }
      ]
    },
    {
      "cell_type": "code",
      "metadata": {
        "id": "XyjgPJxPPff3"
      },
      "source": [
        "model.load_weights(file_path)\n",
        "model.save('bigCNN_model.h5')"
      ],
      "execution_count": null,
      "outputs": []
    },
    {
      "cell_type": "markdown",
      "metadata": {
        "id": "lkoEaGXSg8DM"
      },
      "source": [
        "#### Evaluate & Predict"
      ]
    },
    {
      "cell_type": "code",
      "metadata": {
        "id": "9sf2Xc8og2_B",
        "colab": {
          "base_uri": "https://localhost:8080/",
          "height": 482
        },
        "outputId": "c60466c9-70de-47ca-e044-ef2f256741be"
      },
      "source": [
        "model.evaluate(texts_val, val_y) \n",
        "#len(X_val)\n",
        "#train_y.mean()\n",
        "\n",
        "val_data['pred_claps_bigCNN'] = model.predict(texts_val)\n",
        "fig, ax1 = plt.subplots(1, 1, figsize = (5, 5))\n",
        "ax1.plot(val_data['totalClapCount'], val_data['pred_claps_bigCNN'], 'ro', label = 'Prediction')\n",
        "ax1.plot(val_data['totalClapCount'], val_data['totalClapCount'], 'b-', label = 'Actual')\n",
        "ax1.legend()\n",
        "\n",
        "val_data.pred_claps_bigCNN.describe()"
      ],
      "execution_count": null,
      "outputs": [
        {
          "output_type": "stream",
          "text": [
            "396/396 [==============================] - 38s 96ms/step - loss: 9025.9502 - mean_absolute_error: 59.2073\n"
          ],
          "name": "stdout"
        },
        {
          "output_type": "execute_result",
          "data": {
            "text/plain": [
              "count    12664.000000\n",
              "mean        48.797173\n",
              "std         26.366112\n",
              "min          6.881751\n",
              "25%         32.201071\n",
              "50%         43.325798\n",
              "75%         58.447175\n",
              "max        308.666870\n",
              "Name: pred_claps_bigCNN, dtype: float64"
            ]
          },
          "metadata": {
            "tags": []
          },
          "execution_count": 73
        },
        {
          "output_type": "display_data",
          "data": {
            "image/png": "[encoded data removed]",
            "text/plain": [
              "<Figure size 360x360 with 1 Axes>"
            ]
          },
          "metadata": {
            "tags": [],
            "needs_background": "light"
          }
        }
      ]
    },
    {
      "cell_type": "code",
      "metadata": {
        "id": "ZHpQx1Br34G4",
        "colab": {
          "base_uri": "https://localhost:8080/",
          "height": 281
        },
        "outputId": "b73d585a-e3b6-4991-cfa6-954969a80724"
      },
      "source": [
        "print('complex CNN MAE:', metrics.mean_absolute_error(val_y, val_data['pred_claps_bigCNN']))\n",
        "error = metrics.mean_absolute_error(val_y, val_data['pred_claps_bigCNN'])\n",
        "\n",
        "mae.append((\"ComplexCNN MAE\", error))\n",
        "\n",
        "coefficients = pd.concat([pd.DataFrame(X.columns),pd.DataFrame(np.transpose(regressor.coef_))], axis = 1)\n",
        "coefficients\n",
        "\n",
        "### Extracting prediction on test Data\n",
        "test_predictions_bigCNN = model.predict(x_test)\n",
        "test_predictions[\"bigCNN\"] = test_predictions_bigCNN\n",
        "print(test_predictions)"
      ],
      "execution_count": null,
      "outputs": [
        {
          "output_type": "stream",
          "text": [
            "WARNING:tensorflow:Model was constructed with shape (None, 200) for input Tensor(\"input_3:0\", shape=(None, 200), dtype=float32), but it was called on an input with incompatible shape (None, 11).\n",
            "     Unnamed: 0      baseline       linear    miniCNN       stack     bigCNN\n",
            "0             0  11925.742588  8863.408011  47.466293  268.755283  24.410152\n",
            "1             1   3000.265492  2155.761287  37.669350  153.851006  19.173100\n",
            "2             2   3379.266643  2521.084323  22.881779  222.461128  23.666241\n",
            "3             3   1408.460660   977.399136  42.054787  155.255167  10.473527\n",
            "4             4    404.107611   289.836423  35.079487  148.558397  12.147667\n",
            "..          ...           ...          ...        ...         ...        ...\n",
            "509         509   3474.016931  2559.949675  41.813400  160.223739  20.328026\n",
            "510         510    498.857899   484.274815  62.019775  219.198526  13.174059\n",
            "511         511    498.857899 -1472.864904  30.609410  158.492773  10.089076\n",
            "512         512   2242.263191  1641.677255  26.714950  149.854546  13.663631\n",
            "513         513    688.358474   512.331273  27.996592  148.882434  18.319433\n",
            "\n",
            "[514 rows x 6 columns]\n"
          ],
          "name": "stdout"
        }
      ]
    },
    {
      "cell_type": "markdown",
      "metadata": {
        "id": "7sImhmq7wefu"
      },
      "source": [
        "## Results\n",
        "\n",
        "The results are difficult to evaluate. Looking at the errors and the prediction results does not give a great deal of confidence. \n",
        "\n",
        "Several factors can be named that might explain sub-standard results compared to other machine learning problems.\n",
        "\n",
        "**The task** is both intriguing and difficult. Reliably predicting success of a blog post is every blogger's dream. The results show that modeling the phenomenon of virality, or even user engagement, is difficult. Many external factors might influence the success of a post, likely mixed with a fair bit of chance. Also, some of the variables such as responses here are not available when publishing. This in fact takes the one varible that reliably showed to be linked to the number of claps out of the equation.\n",
        "\n",
        "**The data**, especially the test set, was lacking in explanative value. While the training data offered more features, the test data was very limited. Little overlapping with the train data made inference difficult, or at least incomplete.\n",
        "\n",
        "**The process** has its own flaws. While many approaches were tried, the techniques used were applied in a rather broad but shallow fashion. Fewer, more thoroughly tuned models and increased training time would likely yield better results. This goes for the stacking ensemble which used basically untuned models, as well as for the neural nets which were not trained until convergence. It's possible that an approach with more iterations over fewer data would have made for better predictions.\n",
        "\n",
        "Parameter choice in the language models is also important. For the complex CNN model, a large batch size was used. This should be refleted in changes to other parameters such as batch size, but was not.\n",
        "\n",
        "It would have also been interesting to use headline data as well, as a headline is the first point of contact for any user. It might be decisive in the users decision to engage.\n",
        "\n",
        "Again, it is still very much possible that using text data alone gives little information on future user engagement. There might be certain recipes to increase success, but these would likely be tough for an algorithm to detect.\n",
        "\n"
      ]
    },
    {
      "cell_type": "markdown",
      "metadata": {
        "id": "_7SXiPhgWIBm"
      },
      "source": [
        "### Choosing a model for prediction\n",
        "\n",
        "The metric used to determine model performance was mean absolute error of predictions on the validation set. Going by this, the most promising model would be one of the simplest: The MAE of linear regression on the numeric features has an mae of 44,4.\n",
        "\n",
        "Going by this, the choice is easy. But when looking at the predictions on the valitation set, some doubt is cast. The numbers look suspiciously large, given that the average and mean values of the total claps are rather small, and contain negative values as well.\n",
        "\n",
        "The most realistic looking predictions, with an even spred, come from the simple CNN model.\n",
        "\n",
        "Looking at correlations of the results, there is some postive correlation throughout, both for the predictions on the validation set, as well as between predictions on the test set.\n",
        "\n",
        "Ultimately, an average across all predictions os built and used for the submission."
      ]
    },
    {
      "cell_type": "code",
      "metadata": {
        "id": "7oLVH9lI8l83"
      },
      "source": [
        "val_data.to_csv('val_trained.csv')\n",
        "test_predictions.to_csv('test_predictions_final.csv')\n",
        "\n",
        "with open(\"mae.txt\", \"w\") as output:\n",
        "    output.write(str(mae))\n"
      ],
      "execution_count": null,
      "outputs": []
    },
    {
      "cell_type": "code",
      "metadata": {
        "id": "70DicekMwgB_",
        "colab": {
          "base_uri": "https://localhost:8080/",
          "height": 553
        },
        "outputId": "cdf62d1e-f0c1-4af8-ceee-2606c97516ae"
      },
      "source": [
        "# Compute the correlation matrix\n",
        "temp = val_data[[\"pred_claps_linear\", \"pred_claps_bigCNN\", \"totalClapCount\"]]\n",
        "\n",
        "\n",
        "corr = temp.corr()\n",
        "\n",
        "\n",
        "# Generate a mask for the upper triangle\n",
        "mask = np.zeros_like(corr, dtype=np.bool)\n",
        "mask[np.triu_indices_from(mask)] = True\n",
        "\n",
        "# Set up the matplotlib figure\n",
        "f, ax = plt.subplots(figsize=(11, 9))\n",
        "\n",
        "# Generate a custom diverging colormap\n",
        "cmap = sns.diverging_palette(220, 20, as_cmap=True)\n",
        "\n",
        "# Draw the heatmap with the mask and correct aspect ratio\n",
        "sns.heatmap(corr, annot=True,mask=mask, cmap=cmap, vmax=1, center=0,\n",
        "            square=True, linewidths=1.5, cbar_kws={\"shrink\": .5})"
      ],
      "execution_count": null,
      "outputs": [
        {
          "output_type": "execute_result",
          "data": {
            "text/plain": [
              "<matplotlib.axes._subplots.AxesSubplot at 0x7f5ebb41d3c8>"
            ]
          },
          "metadata": {
            "tags": []
          },
          "execution_count": 86
        },
        {
          "output_type": "display_data",
          "data": {
            "image/png": "[encoded data removed]",
            "text/plain": [
              "<Figure size 792x648 with 2 Axes>"
            ]
          },
          "metadata": {
            "tags": [],
            "needs_background": "light"
          }
        }
      ]
    },
    {
      "cell_type": "code",
      "metadata": {
        "id": "wYoN25tXcn5V",
        "colab": {
          "base_uri": "https://localhost:8080/",
          "height": 553
        },
        "outputId": "66a81a28-ca60-44ca-804e-a4be3e7b1383"
      },
      "source": [
        "# Compute the correlation matrix\n",
        "temp = test_predictions\n",
        "\n",
        "\n",
        "corr = temp.corr()\n",
        "\n",
        "\n",
        "# Generate a mask for the upper triangle\n",
        "mask = np.zeros_like(corr, dtype=np.bool)\n",
        "mask[np.triu_indices_from(mask)] = True\n",
        "\n",
        "# Set up the matplotlib figure\n",
        "f, ax = plt.subplots(figsize=(11, 9))\n",
        "\n",
        "# Generate a custom diverging colormap\n",
        "cmap = sns.diverging_palette(220, 20, as_cmap=True)\n",
        "\n",
        "# Draw the heatmap with the mask and correct aspect ratio\n",
        "sns.heatmap(corr, annot=True,mask=mask, cmap=cmap, vmax=1, center=0,\n",
        "            square=True, linewidths=1.5, cbar_kws={\"shrink\": .5})"
      ],
      "execution_count": null,
      "outputs": [
        {
          "output_type": "execute_result",
          "data": {
            "text/plain": [
              "<matplotlib.axes._subplots.AxesSubplot at 0x7f5eb9fe6d68>"
            ]
          },
          "metadata": {
            "tags": []
          },
          "execution_count": 87
        },
        {
          "output_type": "display_data",
          "data": {
            "image/png": "[encoded data removed]",
            "text/plain": [
              "<Figure size 792x648 with 2 Axes>"
            ]
          },
          "metadata": {
            "tags": [],
            "needs_background": "light"
          }
        }
      ]
    }
  ]
}